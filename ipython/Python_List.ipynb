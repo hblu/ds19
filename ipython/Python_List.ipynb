{
 "cells": [
  {
   "cell_type": "markdown",
   "metadata": {},
   "source": [
    "# Python 中的列表 (I)"
   ]
  },
  {
   "cell_type": "markdown",
   "metadata": {},
   "source": [
    "## 背景\n",
    "\n",
    "列表对于那些正在开始学习 Python 的人, 以及那些已经熟悉该语言的人来说是一个越来越受欢迎的话题.\n",
    "\n",
    "## 什么是 Python 列表\n",
    "\n",
    "列表是 Python 中的四个内置数据结构之一, 包括元组、字典和集合. 它们用于存储一族元素, 可以是不同类型的. 列表中包含的元素用逗号分隔，并用方括号括起来."
   ]
  },
  {
   "cell_type": "code",
   "execution_count": null,
   "metadata": {
    "collapsed": true
   },
   "outputs": [],
   "source": [
    "# These list elements are all of the same type\n",
    "zoo = ['bear', 'lion', 'panda', 'zebra']\n",
    "print(zoo)\n",
    "\n",
    "# But these list elements are not\n",
    "biggerZoo = ['bear', 'lion', 'panda', 'zebra', ['chimpanzees', 'gorillas', 'orangutans', 'gibbons']]\n",
    "print(biggerZoo)"
   ]
  },
  {
   "cell_type": "markdown",
   "metadata": {},
   "source": [
    "## 1. 何时使用 Python 列表以及何时使用元组, 字典或集合\n",
    "\n",
    "**列表 Vs 元组**\n",
    "\n",
    "元组用于存放一列不可变的有序元素, 这意味着:\n",
    "\n",
    "- 不能将元素添加到元组中. 元组没有 `append()` 或 `extend()`方法，\n",
    "- 不能从元组中移除元素. 元组没有 `remove()` 或 `pop()` 方法\n",
    "- 可以在元组中找到元素, 因为这不会改变元组\n",
    "- 也可以使用 `in` 运算符来检查元组中是否存在元素\n",
    "\n",
    "所以, 如果你正在定义一组常量值, 并且你要做的就是遍历它, 那么使用一个元组而不是一个列表. 它将比使用列表更快并且更安全, 因为元组包含 \"写保护\" 数据.\n",
    "\n",
    "**列表 Vs 字典**\n",
    "\n",
    "- 列表存储一个有序的元素集合, 所以它保持一定的顺序. 而字典没有任何顺序\n",
    "- 字典将每个键与一个值相关联, 而列表只包含值\n",
    "\n",
    "\n",
    "如果你有一组唯一的无序键值对, 使用字典\n",
    "\n",
    "**注意** 因为字典具有链接到彼此的键和值, 所以在使用 `in` 操作时性能会比列表更好\n",
    "\n",
    "**列表 Vs 集合**\n",
    "\n",
    "- 就像字典一样, 集合中的元素是无序的, 不像列表\n",
    "- 集合要求其中的元素是可哈希的, 而列表没有这个限制\n",
    "- 集合要求其中的元素是唯一且不可变的, 而列表允许重复并且是可变的\n",
    "\n",
    "\n",
    "当你有一组无序的唯一、不可变的值时 (可哈希的), 使用集合.\n",
    "\n",
    "Hashable  |\tNon-Hashable\n",
    "----------|--------------\n",
    "Floats \t| Dictionaries\n",
    "Integers |\tSets\n",
    "Tuples |\tLists\n",
    "Strings |\t \n",
    "frozenset()| \t"
   ]
  },
  {
   "cell_type": "code",
   "execution_count": null,
   "metadata": {
    "collapsed": true,
    "scrolled": true
   },
   "outputs": [],
   "source": [
    "# Import the `collections` library\n",
    "_________\n",
    "\n",
    "# Check if a dictionary is hashable\n",
    "print(isinstance({}, collections.Hashable))\n",
    "\n",
    "# Check if a float is hashable\n",
    "print(isinstance(0.125, collections.Hashable))"
   ]
  },
  {
   "cell_type": "code",
   "execution_count": null,
   "metadata": {
    "collapsed": true
   },
   "outputs": [],
   "source": [
    "# Check\n",
    "set({[1,2],\"a\"})"
   ]
  },
  {
   "cell_type": "markdown",
   "metadata": {},
   "source": [
    "**注意** 由于存放的是可哈希的元素, 因此集合的 `in` 操作比列表更快"
   ]
  },
  {
   "cell_type": "markdown",
   "metadata": {},
   "source": [
    "**练习** 比较列表与集合中 `in` 操作的时间"
   ]
  },
  {
   "cell_type": "code",
   "execution_count": null,
   "metadata": {
    "collapsed": true
   },
   "outputs": [],
   "source": [
    "import time\n",
    "\n",
    "x = set({i for i in range(10**7)})\n",
    "y = [i for i in range(10**7)]\n",
    "\n",
    "# check if 5*10**6 is in x\n",
    "start = time.time()\n",
    "_____________\n",
    "print(time.time() - start)\n",
    "\n",
    "# check if 5*10**6 is in y\n",
    "start = time.time()\n",
    "_____________\n",
    "print(time.time() - start)"
   ]
  },
  {
   "cell_type": "markdown",
   "metadata": {},
   "source": [
    "## 2. 如何选取列表中的元素"
   ]
  },
  {
   "cell_type": "code",
   "execution_count": null,
   "metadata": {
    "collapsed": true
   },
   "outputs": [],
   "source": [
    "# Select the first list element\n",
    "oneZooAnimal = biggerZoo[___]\n",
    "\n",
    "# Print `oneZooAnimal`\n",
    "print(____)"
   ]
  },
  {
   "cell_type": "code",
   "execution_count": null,
   "metadata": {
    "collapsed": true
   },
   "outputs": [],
   "source": [
    "# Print the last element of `biggerZoo`\n",
    "\n",
    "print(______)\n",
    "\n",
    "# Print the second to last element of `biggerZoo`\n",
    "print(______)"
   ]
  },
  {
   "cell_type": "markdown",
   "metadata": {},
   "source": [
    "**`Index Out Of Range Error` 错误**"
   ]
  },
  {
   "cell_type": "code",
   "execution_count": null,
   "metadata": {
    "collapsed": true
   },
   "outputs": [],
   "source": [
    "# What does the Index Out Of Range Error Mean?\n",
    "# Run this code to trigger an \"Index Out Of Range\" Error\n",
    "biggerZoo[6]"
   ]
  },
  {
   "cell_type": "markdown",
   "metadata": {},
   "source": [
    "**切片符号**\n",
    "\n",
    "一般来说, 如果你想一次选择多个列表元素, 则使用切片符号"
   ]
  },
  {
   "cell_type": "code",
   "execution_count": null,
   "metadata": {
    "collapsed": true
   },
   "outputs": [],
   "source": [
    "# Use the slice notation like this\n",
    "someZooAnimals = biggerZoo[2: ]\n",
    "\n",
    "# Print to see what you exactly select from `biggerZoo`\n",
    "print(someZooAnimals)\n",
    "\n",
    "# Try putting 2 on the other side of the colon\n",
    "otherZooAnimals = biggerZoo[____]\n",
    "\n",
    "# Print to see what you're getting back\n",
    "print(otherZooAnimals)"
   ]
  },
  {
   "cell_type": "markdown",
   "metadata": {},
   "source": [
    "```python\n",
    "# items start through the end (but the end is not included!)\n",
    "a[start:end]\n",
    "\n",
    "# items start through the rest of the array\n",
    "a[start:]    \n",
    "\n",
    "# items from the beginning through the end (but the end is not included!)\n",
    "a[:end]\n",
    "\n",
    "# by just passing a colon :, you will just copy the list!\n",
    "a[:]\n",
    "\n",
    "# start through not past end, by step\n",
    "a[start:end:step]\n",
    "```"
   ]
  },
  {
   "cell_type": "code",
   "execution_count": null,
   "metadata": {
    "collapsed": true
   },
   "outputs": [],
   "source": [
    "# Print to see how the step value influences your result\n",
    "print(biggerZoo[2::2])\n",
    "print(biggerZoo[1::3])"
   ]
  },
  {
   "cell_type": "markdown",
   "metadata": {},
   "source": [
    "**请记住:** 结果不包括在切片符号中指定的最终值索引"
   ]
  },
  {
   "cell_type": "markdown",
   "metadata": {},
   "source": [
    "**如何随机选取列表中的一个元素**"
   ]
  },
  {
   "cell_type": "code",
   "execution_count": null,
   "metadata": {
    "collapsed": true
   },
   "outputs": [],
   "source": [
    "# Import `choice` from the `random` library\n",
    "from ____ import ____\n",
    "\n",
    "# Construct your `list` variable with a list of the first 4 letters of the alphabet\n",
    "list = ['_','_','_','_']\n",
    "\n",
    "# Print your random 'list' element\n",
    "print(choice(list))"
   ]
  },
  {
   "cell_type": "code",
   "execution_count": null,
   "metadata": {
    "collapsed": true
   },
   "outputs": [],
   "source": [
    "# Import `randrange` from the `random` library\n",
    "from ____ import ____\n",
    "\n",
    "# Construct your `randomLetters` variable with a list of the first 4 letters of the alphabet\n",
    "randomLetters = ['_','_', '_', '_']\n",
    "\n",
    "# Select a random index from 'randomLetters`\n",
    "randomIndex = randrange(0,len(randomLetters))\n",
    "\n",
    "# Print your random element from `random`\n",
    "print(randomLetters[randomIndex])"
   ]
  },
  {
   "cell_type": "markdown",
   "metadata": {},
   "source": [
    "## 3. 将 Python 列表转换至其他数据结构类型\n",
    "\n",
    "有时候, 列表并不完全是你需要的. 在这些情况下，可能需要将列表转换为更合适的数据结构.\n",
    "\n",
    "**将列表转换为字符串**\n",
    "\n",
    "可以使用 `''.join()` 将列表转换为字符串. 此操作将列表中的所有字符串粘合在一起, 并将它们作为字符串返回."
   ]
  },
  {
   "cell_type": "code",
   "execution_count": null,
   "metadata": {
    "collapsed": true
   },
   "outputs": [],
   "source": [
    "# List of Strings to a String\n",
    "listOfStrings = ['One', 'Two', 'Three']\n",
    "strOfStrings = ''.join(listOfStrings)\n",
    "print(strOfStrings)\n",
    "\n",
    "# List Of Integers to a String\n",
    "listOfNumbers = [1, 2, 3]\n",
    "strOfNumbers = ''.join(str(n) for n in listOfNumbers)\n",
    "print(strOfNumbers)"
   ]
  },
  {
   "cell_type": "markdown",
   "metadata": {},
   "source": [
    "**注意** 如果列表只包含整数, 则应首先将元素转换为字符串."
   ]
  },
  {
   "cell_type": "markdown",
   "metadata": {},
   "source": [
    "**将列表转换为元组**\n",
    "\n",
    "使用 `tuple()` 函数将列表更改为 Python 中的元组."
   ]
  },
  {
   "cell_type": "code",
   "execution_count": null,
   "metadata": {
    "collapsed": true
   },
   "outputs": [],
   "source": [
    "# Convert listOfNumbers to a tuple\n",
    "listOfNumbers = [1, 2, 3]\n",
    "____________"
   ]
  },
  {
   "cell_type": "markdown",
   "metadata": {},
   "source": [
    "**将列表转换为集合**\n",
    "\n",
    "由于集合是一些唯一元素的无序集合. 这意味着, 不仅原始列表中的任何重复项转换为集合后会丢失, 而且还会影响列表元素的顺序.\n",
    "\n",
    "可以使用 `set()` 函数将列表更改为一个集合."
   ]
  },
  {
   "cell_type": "code",
   "execution_count": null,
   "metadata": {
    "collapsed": true
   },
   "outputs": [],
   "source": [
    "# Convert listOfNumbers to a set\n",
    "listOfNumbers = [1, 2, 3]\n",
    "____________"
   ]
  },
  {
   "cell_type": "markdown",
   "metadata": {},
   "source": [
    "## 4. 如何确定列表的大小"
   ]
  },
  {
   "cell_type": "code",
   "execution_count": null,
   "metadata": {
    "collapsed": true,
    "scrolled": true
   },
   "outputs": [],
   "source": [
    "a = [i**2 for i in range(100)]\n",
    "# determine the length of list `a`\n",
    "__________"
   ]
  },
  {
   "cell_type": "markdown",
   "metadata": {},
   "source": [
    "## 5. `append()` 与 `extend()` 方法的区别\n",
    "\n",
    "**可迭代的 (iterable)** 我们说某个对象是可迭代的, 如果程序可以迭代运行它. 换句话说, 一个可迭代对象是一个有很多值的序列.\n",
    "\n",
    "**注意** 可以通过查看一个对象是否有 `.__iter__` 方法来判断它是否是可迭代的."
   ]
  },
  {
   "cell_type": "code",
   "execution_count": null,
   "metadata": {
    "collapsed": true
   },
   "outputs": [],
   "source": [
    "# This is your list\n",
    "list = [5, 6, 7, 8, 9]\n",
    "\n",
    "# Check whether it's iterable\n",
    "list.__iter__\n",
    "\n",
    "i = 123\n",
    "# Check whether it's iterable\n",
    "i.__iter__"
   ]
  },
  {
   "cell_type": "markdown",
   "metadata": {},
   "source": [
    "- `extend()` 接收的是一个可迭代对象 (列表, 集合, 元组, 字符串等), 然后依次将其中的每一个元素添加至列表末端\n",
    "- `append()` 直接将其接收的元素添加至列表末端"
   ]
  },
  {
   "cell_type": "code",
   "execution_count": null,
   "metadata": {
    "collapsed": true
   },
   "outputs": [],
   "source": [
    "shortList = [1,2,3]\n",
    "\n",
    "# Append [4,5] to `shortList`\n",
    "shortList.append([4, 5])\n",
    "\n",
    "# Use the print() method to show shortList\n",
    "print(____)\n",
    "\n",
    "# Extend `shortList` with [4,5]\n",
    "shortList.extend([4, 5])\n",
    "\n",
    "# Use the print() method to see shortList\n",
    "print(____)"
   ]
  },
  {
   "cell_type": "markdown",
   "metadata": {},
   "source": [
    "## 6. 如何连接两个列表\n",
    "\n",
    "- `+`: 连接列表操作, 产生一个新列表\n",
    "- `append()`, `extend()`: 在原列表基础上修改"
   ]
  },
  {
   "cell_type": "code",
   "execution_count": null,
   "metadata": {
    "collapsed": true
   },
   "outputs": [],
   "source": [
    "# Concatenate `shortList` with `[4,5]`\n",
    "plusList = ___________\n",
    "\n",
    "#Use the `print()` method to see `plusList`\n",
    "print(____)"
   ]
  },
  {
   "cell_type": "markdown",
   "metadata": {},
   "source": [
    "## 7. 对列表中元素排序\n",
    "\n",
    "- `sort()` 方法\n",
    "- `sorted()` 函数"
   ]
  },
  {
   "cell_type": "code",
   "execution_count": null,
   "metadata": {
    "collapsed": true
   },
   "outputs": [],
   "source": [
    "rooms = [2, 1, 4, 5, 3]\n",
    "\n",
    "# Use sort() on the rooms list\n",
    "____.sort()\n",
    "\n",
    "# Print rooms to see the result\n",
    "print(____)\n",
    "\n",
    "orders = [6, 3, 4, 5, 1, 2]\n",
    "\n",
    "# Now use the sorted() function on orders\n",
    "sorted(____)\n",
    "\n",
    "# Print orders\n",
    "print(____)"
   ]
  },
  {
   "cell_type": "markdown",
   "metadata": {},
   "source": [
    "**问题:** `sort()` 与 `sorted()` 的区别?"
   ]
  },
  {
   "cell_type": "markdown",
   "metadata": {},
   "source": [
    "## 8. 如何复制列表\n",
    "\n",
    "- 使用切片操作: `newList = oldList[:]`\n",
    "- 使用 `copy` 库:\n",
    "    - 使用 `copy()`: `newList = copy.copy(oldList)`\n",
    "    - 如果列表中包含对象 (object), 且你想同时复制它们, 可以使用 `copy.deepcopy()`: `copy.deepcopy(oldList)`"
   ]
  },
  {
   "cell_type": "code",
   "execution_count": null,
   "metadata": {
    "collapsed": true
   },
   "outputs": [],
   "source": [
    "groceries = ['apples', 'eggs', 'steak', 'spaghetti', ['fanta', 'sprite', 'cola']]\n",
    "\n",
    "# Copy the grocery list by slicing and store it in the `newGroceries` variable\n",
    "newGroceries = groceries[__]\n",
    "print(newGroceries)\n",
    "\n",
    "# Import the copy library as c\n",
    "import ____ as _____\n",
    "\n",
    "# Create a `groceriesForFamily` variable and assign the copied grocery list to it\n",
    "groceriesForFamily =  c.copy(____)\n",
    "print(groceriesForFamily)\n",
    "\n",
    "# Use `deepcopy()` and assign the copied list to a `groceriesForKids` variable\n",
    "groceriesForKids= c.deepcopy(____)\n",
    "print(groceriesForKids)"
   ]
  },
  {
   "cell_type": "markdown",
   "metadata": {},
   "source": [
    "**浅层 copy** vs **深层 copy**"
   ]
  },
  {
   "cell_type": "code",
   "execution_count": null,
   "metadata": {
    "collapsed": true
   },
   "outputs": [],
   "source": [
    "# This is your list\n",
    "objectList = ['a','b',['ab','ba']]\n",
    "\n",
    "# Copy the `objectList`\n",
    "copiedList = objectList[:]\n",
    "\n",
    "# Change the first list element of `copiedList`\n",
    "copiedList[0] = 'c'\n",
    "\n",
    "# Go to the third element (the nested list) and change the second element\n",
    "copiedList[2][1] = 'd'\n",
    "\n",
    "# Print out the original list to see what happened to it\n",
    "print(objectList)\n",
    "print(copiedList)"
   ]
  },
  {
   "cell_type": "markdown",
   "metadata": {},
   "source": [
    "**练习** 使用深层 copy 重复上面例子"
   ]
  },
  {
   "cell_type": "code",
   "execution_count": null,
   "metadata": {
    "collapsed": true
   },
   "outputs": [],
   "source": [
    "# This is your list\n",
    "objectList = ['a','b',['ab','ba']]\n",
    "\n",
    "# deepcopy the `objectList`\n",
    "copiedList = _______\n",
    "\n",
    "# Change the first list element of `copiedList`\n",
    "copiedList[0] = 'c'\n",
    "\n",
    "# Go to the third element (the nested list) and change the second element\n",
    "copiedList[2][1] = 'd'\n",
    "\n",
    "# Print out the original list to see what happened to it\n",
    "print(objectList)\n",
    "print(copiedList)"
   ]
  },
  {
   "cell_type": "markdown",
   "metadata": {},
   "source": [
    "## 9. 列表推导\n",
    "\n",
    "简单来说, 列表推导是一种优雅地构建列表的方式, 他们看起来很像数学符号."
   ]
  },
  {
   "cell_type": "code",
   "execution_count": null,
   "metadata": {
    "collapsed": true
   },
   "outputs": [],
   "source": [
    "[x**2 for x in range(10)]"
   ]
  },
  {
   "cell_type": "code",
   "execution_count": null,
   "metadata": {
    "collapsed": true
   },
   "outputs": [],
   "source": [
    "l = []\n",
    "for x in range(10):\n",
    "    l.append(x**2)\n",
    "print(l)"
   ]
  },
  {
   "cell_type": "code",
   "execution_count": null,
   "metadata": {
    "collapsed": true
   },
   "outputs": [],
   "source": [
    "[x**2 for x in range(10) if x % 2 == 0]"
   ]
  },
  {
   "cell_type": "code",
   "execution_count": null,
   "metadata": {
    "collapsed": true
   },
   "outputs": [],
   "source": [
    "l = []\n",
    "for x in range(10):\n",
    "    if x % 2 == 0:\n",
    "        l.append(x**2)\n",
    "print(l)"
   ]
  },
  {
   "cell_type": "code",
   "execution_count": null,
   "metadata": {
    "collapsed": true
   },
   "outputs": [],
   "source": [
    "myList = [1, 2, 3, 4, 5, 6, 7, 8, 9, 10]\n",
    "\n",
    "[(lambda x: x*x)(x) for x in myList]"
   ]
  },
  {
   "cell_type": "markdown",
   "metadata": {},
   "source": [
    "**`lambda` 表达式**: 匿名函数\n",
    "\n",
    "```python\n",
    "f = lambda x: x*x\n",
    "[f(x) for x in range(10)]\n",
    "```"
   ]
  },
  {
   "cell_type": "markdown",
   "metadata": {},
   "source": [
    "**练习** \n",
    "\n",
    "1) 将下面代码写成列表推导形式\n",
    "\n",
    "```python\n",
    "divided = []\n",
    "\n",
    "for x in range(100):\n",
    "    if x%4 == 0 :\n",
    "        if x%6 == 0:\n",
    "            divided.append(x)\n",
    "```\n",
    "\n",
    "2) 将下面列表推导写成 `for` 和 `if-else` 形式\n",
    "\n",
    "```python\n",
    "[x+1 if x >= 5 else x+5 for x in range(10)]\n",
    "```\n",
    "\n",
    "3) 现有列表 `list_of_list`, 要求将下面列表推导改写为 `for` 循环形式\n",
    "\n",
    "```python\n",
    "list_of_list = [[1,2,3],[4,5,6],[7,8]]\n",
    "\n",
    "# Flatten `list_of_list`\n",
    "[y for x in list_of_list for y in x]\n",
    "```\n",
    "\n",
    "4) 用 `for` 循环改写下面列表推导\n",
    "\n",
    "```python\n",
    "matrix = [[1,2,3],[4,5,6],[7,8,9]]\n",
    "\n",
    "[[row[i] for row in matrix] for i in range(3)]\n",
    "```\n",
    "\n",
    "5) 使用列表推导创建一个 $3\\times 4$ 的 $0$ 矩阵, 即输出结果为\n",
    "\n",
    "```python\n",
    "[[0,0,0,0],[0,0,0,0],[0,0,0,0]]\n",
    "```"
   ]
  }
 ],
 "metadata": {
  "kernelspec": {
   "display_name": "Python 3",
   "language": "python",
   "name": "python3"
  },
  "language_info": {
   "codemirror_mode": {
    "name": "ipython",
    "version": 3
   },
   "file_extension": ".py",
   "mimetype": "text/x-python",
   "name": "python",
   "nbconvert_exporter": "python",
   "pygments_lexer": "ipython3",
   "version": "3.6.3"
  }
 },
 "nbformat": 4,
 "nbformat_minor": 2
}
