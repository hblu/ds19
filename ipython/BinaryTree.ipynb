{
 "cells": [
  {
   "cell_type": "markdown",
   "metadata": {},
   "source": [
    "# 一、二叉树的遍历"
   ]
  },
  {
   "cell_type": "code",
   "execution_count": 120,
   "metadata": {
    "scrolled": true
   },
   "outputs": [],
   "source": [
    "class BinaryTree:\n",
    "    def __init__(self,rootObj):\n",
    "        self.key = rootObj\n",
    "        self.leftChild = None\n",
    "        self.rightChild = None\n",
    "\n",
    "    def insertLeft(self,newNode):\n",
    "        if self.leftChild == None:\n",
    "            self.leftChild = BinaryTree(newNode)\n",
    "        else:\n",
    "            t = BinaryTree(newNode)\n",
    "            t.leftChild = self.leftChild\n",
    "            self.leftChild = t\n",
    "\n",
    "    def insertRight(self,newNode):\n",
    "        if self.rightChild == None:\n",
    "            self.rightChild = BinaryTree(newNode)\n",
    "        else:\n",
    "            t = BinaryTree(newNode)\n",
    "            t.rightChild = self.rightChild\n",
    "            self.rightChild = t\n",
    "\n",
    "\n",
    "    def getRightChild(self):\n",
    "        return self.rightChild\n",
    "\n",
    "    def getLeftChild(self):\n",
    "        return self.leftChild\n",
    "\n",
    "    def setRootVal(self,obj):\n",
    "        self.key = obj\n",
    "\n",
    "    def getRootVal(self):\n",
    "        return self.key"
   ]
  },
  {
   "cell_type": "markdown",
   "metadata": {},
   "source": [
    "- 深度优先遍历：利用递归或栈实现\n",
    "    - 前序遍历\n",
    "    \n",
    "    ```python\n",
    "    def preOrder(tree):\n",
    "        if tree:\n",
    "            print(tree.getRootVal())\n",
    "            preOrder(tree.getLeftChild())\n",
    "            preOrder(tree.getRightChild())\n",
    "    ```\n",
    "    \n",
    "    - 中序遍历\n",
    "    - 后续遍历\n",
    "    \n",
    "\n",
    "- 广度优先遍历：利用队列实现\n",
    "\n",
    "## 练习1: 为`BinaryTree` 类添加前序、中序、后续遍历\n",
    "\n",
    "## 练习2: 实现二叉树的层序遍历\n",
    "\n",
    "二叉树的层序遍历算法需要用到队列来辅助实现\n",
    "1. 将树的根结点入队\n",
    "2. 如果队列非空, 则进入循环\n",
    "    - 将队首元素取出, 并输出\n",
    "    - 将该元素的左、右孩子入队\n",
    "  \n",
    "\n",
    "---\n",
    "**注: 可通过安装 `pythonds` 库使用本课程中所用到的基本数据结构**\n",
    "```bash\n",
    "pip install pythonds\n",
    "```\n",
    "- 加载 `Stack` 类:\n",
    "\n",
    "```python\n",
    "from pythonds import Stack\n",
    "```\n",
    "\n",
    "- 加载 `Queue` 类:\n",
    "\n",
    "```python\n",
    "from pythonds import Queue\n",
    "```\n",
    "\n",
    "- 加载 `BinaryTree` 类:\n",
    "\n",
    "```python\n",
    "from pythonds import BinaryTree\n",
    "```\n",
    "---\n",
    "\n",
    "## 练习3：编程实现通过前序遍历和中序遍历构建一颗二叉树 （注：使用递归实现）"
   ]
  },
  {
   "cell_type": "code",
   "execution_count": 121,
   "metadata": {
    "collapsed": true
   },
   "outputs": [],
   "source": [
    "# 使用后续遍历和中序遍历构建二叉树\n",
    "from pythonds import BinaryTree\n",
    "\n",
    "def buildTreePost(postOrder, inOrder):\n",
    "    \n",
    "    if len(postOrder) == 0:\n",
    "        return None\n",
    "    \n",
    "    if len(postOrder) == 1:\n",
    "        return BinaryTree(postOrder[0])\n",
    "    \n",
    "    root = postOrder[-1]\n",
    "    t = BinaryTree(root)\n",
    "\n",
    "    leftTree_inOrder, rightTree_inOrder =  inOrder.split(root)\n",
    "    leftTree_postOrder = postOrder[:len(leftTree_inOrder)]\n",
    "    rightTree_postOrder = postOrder[len(leftTree_inOrder):len(leftTree_inOrder)+len(rightTree_inOrder)]\n",
    "\n",
    "    t.leftChild = buildTreePost(leftTree_postOrder, leftTree_inOrder)\n",
    "    t.rightChild = buildTreePost(rightTree_postOrder, rightTree_inOrder)\n",
    "    \n",
    "    return t\n"
   ]
  },
  {
   "cell_type": "code",
   "execution_count": 122,
   "metadata": {},
   "outputs": [
    {
     "name": "stdout",
     "output_type": "stream",
     "text": [
      "C\n",
      "B\n",
      "E\n",
      "D\n",
      "A\n",
      "H\n",
      "G\n",
      "F\n"
     ]
    }
   ],
   "source": [
    "t = buildTreePost(\"CEDBHGFA\", \"CBEDAHGF\")\n",
    "t.inorder()"
   ]
  },
  {
   "cell_type": "markdown",
   "metadata": {},
   "source": [
    "# 二、优先队列、堆\n",
    "\n",
    "## 练习: 创建最大堆类 `BinHeapMax`, 实现下面方法\n",
    "\n",
    "- `BinaryHeap()`: 创建一个空的最大堆对象\n",
    "- `insert(key)`: 将新元素添加到堆中\n",
    "- `delMax()`: 返回堆中最大项, 同时从堆中删除\n",
    "- `buildHeap(alist)`: 从一个列表创建最大堆\n"
   ]
  },
  {
   "cell_type": "code",
   "execution_count": 123,
   "metadata": {},
   "outputs": [],
   "source": [
    "# 最小堆的实现\n",
    "class BinHeap:\n",
    "    #初始化\n",
    "    def __init__(self):\n",
    "        self.heapList = [0]\n",
    "        self.size = 0\n",
    "    \n",
    "    #上浮操作\n",
    "    def percUp(self, i):\n",
    "        while i // 2 > 0:\n",
    "            if self.heapList[i] < self.heapList[i//2]:\n",
    "                self.heapList[i], self.heapList[i//2] = self.heapList[i//2], self.heapList[i]\n",
    "            i //= 2\n",
    "    \n",
    "    #插入\n",
    "    def insert(self, key):\n",
    "        self.heapList.append(key)\n",
    "        self.size += 1\n",
    "        self.percUp(self.size)\n",
    "    \n",
    "    #下沉操作\n",
    "    def percDown(self,i):\n",
    "        while (i * 2) <= self.size:\n",
    "            mc = self.minChild(i)\n",
    "            if self.heapList[i] > self.heapList[mc]:\n",
    "                self.heapList[i], self.heapList[mc] = self.heapList[mc], self.heapList[i]\n",
    "            i = mc\n",
    "\n",
    "    #返回最小孩子结点编号\n",
    "    def minChild(self,i):\n",
    "        if i * 2 + 1 > self.size:\n",
    "            return i * 2\n",
    "        else:\n",
    "            if self.heapList[i*2] < self.heapList[i*2+1]:\n",
    "                return i * 2\n",
    "            else:\n",
    "                return i * 2 + 1\n",
    "    \n",
    "    #删除最小元素\n",
    "    def delMin(self):\n",
    "        retval = self.heapList[1]\n",
    "        self.heapList[1] = self.heapList[-1]\n",
    "        self.size -= 1\n",
    "        self.heapList.pop()\n",
    "        self.percDown(1)\n",
    "        return retval\n",
    "    \n",
    "    #创建最小堆\n",
    "    def buildHeap(self,alist):\n",
    "\n",
    "        self.size = len(alist)\n",
    "        self.heapList = [0] + alist[:]\n",
    "        i = len(alist) // 2\n",
    "        while (i > 0):\n",
    "            self.percDown(i)\n",
    "            i -= 1\n"
   ]
  },
  {
   "cell_type": "code",
   "execution_count": 124,
   "metadata": {},
   "outputs": [
    {
     "name": "stdout",
     "output_type": "stream",
     "text": [
      "2\n",
      "3\n",
      "5\n",
      "6\n",
      "9\n"
     ]
    }
   ],
   "source": [
    "bh = BinHeap()\n",
    "bh.buildHeap([9,5,6,2,3])\n",
    "\n",
    "print(bh.delMin())\n",
    "print(bh.delMin())\n",
    "print(bh.delMin())\n",
    "print(bh.delMin())\n",
    "print(bh.delMin())"
   ]
  }
 ],
 "metadata": {
  "kernelspec": {
   "display_name": "Python 3",
   "language": "python",
   "name": "python3"
  },
  "language_info": {
   "codemirror_mode": {
    "name": "ipython",
    "version": 3
   },
   "file_extension": ".py",
   "mimetype": "text/x-python",
   "name": "python",
   "nbconvert_exporter": "python",
   "pygments_lexer": "ipython3",
   "version": "3.6.3"
  }
 },
 "nbformat": 4,
 "nbformat_minor": 2
}
