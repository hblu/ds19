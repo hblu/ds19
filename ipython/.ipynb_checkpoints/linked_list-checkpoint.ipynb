{
 "cells": [
  {
   "cell_type": "markdown",
   "metadata": {},
   "source": [
    "# 1. 单链表\n",
    "\n",
    "## 单链表结构与顺序存储结构优缺点\n",
    "\n",
    "- 存储分配方式\n",
    "    - 顺序存储结构用一段连续的存储单元依次存储线性表的数据元素\n",
    "    - 单链表采用链式存储结构, 用一组任意的存储单元存放线性表的元素\n",
    "- 时间性能\n",
    "    - 查找\n",
    "        - 顺序存储结构 $O(1)$\n",
    "        - 单链表 $O(n)$\n",
    "    - 插入和删除\n",
    "        - 顺序存储结构需要平均移动表长一半的元素, 时间为 $O(n)$\n",
    "        - 单链表在找出某位置的指针后, 插入和删除时间为 $O(1)$\n",
    "- 空间性能\n",
    "    - 顺序存储结构需要预分配存储空间, 分大了浪费, 分小了容易溢出\n",
    "    - 单链表不需要分配存储空间, 只要内存没满就可以分配, 元素的个数也不受限制\n",
    "    \n",
    "## 如何选择？\n",
    "\n",
    "- 若线性表需要频繁查找, 而很少进行插入和删除操作, 宜采用顺序存储结构\n",
    "- 若需要频繁插入和删除时, 宜采用单链表结构\n",
    "- 当线性表中的元素个数变化较大或根本不知道有多大时, 最好用单链表结构\n",
    "- 如果事先知道线性表的大致长度, 则采用顺序存储结构会高效很多"
   ]
  },
  {
   "cell_type": "code",
   "execution_count": 4,
   "metadata": {
    "collapsed": true
   },
   "outputs": [],
   "source": [
    "class Node:\n",
    "    def __init__(self, data):\n",
    "        self.data = data\n",
    "        self.next = None"
   ]
  },
  {
   "cell_type": "markdown",
   "metadata": {},
   "source": [
    "![](http://hblu.coding.me/ds16/_images/node.png)"
   ]
  },
  {
   "cell_type": "code",
   "execution_count": 5,
   "metadata": {
    "collapsed": true
   },
   "outputs": [],
   "source": [
    "class LinkedList:\n",
    "    def __init__(self):\n",
    "        self.head = None"
   ]
  },
  {
   "cell_type": "markdown",
   "metadata": {},
   "source": [
    "![](http://hblu.coding.me/ds16/_images/initlinkedlist.png)"
   ]
  },
  {
   "cell_type": "code",
   "execution_count": null,
   "metadata": {
    "collapsed": true
   },
   "outputs": [],
   "source": [
    "class Node:\n",
    "    def __init__(self,data):\n",
    "        self.data = data\n",
    "        self.next = None\n",
    "\n",
    "    def getData(self):\n",
    "        return self.data\n",
    "\n",
    "    def getNext(self):\n",
    "        return self.next\n",
    "\n",
    "    def setData(self,newdata):\n",
    "        self.data = newdata\n",
    "\n",
    "    def setNext(self,newnext):\n",
    "        self.next = newnext\n",
    "\n",
    "\n",
    "class LinkedList:\n",
    "\n",
    "    def __init__(self):\n",
    "        self.head = None\n",
    "\n",
    "    def isEmpty(self):\n",
    "        return self.head == None\n",
    "\n",
    "    def add(self,item):\n",
    "        temp = Node(item)\n",
    "        temp.setNext(self.head)\n",
    "        self.head = temp\n",
    "\n",
    "    def size(self):\n",
    "        current = self.head\n",
    "        count = 0\n",
    "        while current != None:\n",
    "            count += 1\n",
    "            current = current.getNext()\n",
    "\n",
    "        return count\n",
    "\n",
    "    def search(self,item):\n",
    "        current = self.head\n",
    "        found = False\n",
    "        while current != None and not found:\n",
    "            if current.getData() == item:\n",
    "                found = True\n",
    "            else:\n",
    "                current = current.getNext()\n",
    "\n",
    "        return found\n",
    "\n",
    "    def remove(self,item):\n",
    "        current = self.head\n",
    "        previous = None\n",
    "        found = False\n",
    "        while current != None and not found:\n",
    "            if current.getData() == item:\n",
    "                found = True\n",
    "            else:\n",
    "                previous = current\n",
    "                current = current.getNext()\n",
    "        if found:\n",
    "            if previous == None:\n",
    "                self.head = current.getNext()\n",
    "            else:\n",
    "                previous.setNext(current.getNext())\n"
   ]
  },
  {
   "cell_type": "markdown",
   "metadata": {},
   "source": [
    "## 练习\n",
    "\n",
    "为 `LinkedList` 添加 `print`, `len`, `append`, `pop`, `insert` 等方法, 并实现切片操作. 并给出你实现的这些方法的时间复杂度.\n",
    "\n",
    "**注** \n",
    "\n",
    "- **Python 中操作符的重载**\n",
    "\n",
    "```\n",
    "方法名         重载的操作说明        调用表达式\n",
    "__init__    构造函数        创建对象：class()\n",
    "__del__        析构函数        释放对象的时候\n",
    "__add__        “+”            x + y\n",
    "__or__        “|”            x | y\n",
    "__repr__    打印，转换        print x, `x`\n",
    "__call__    函数调用        X()\n",
    "__getattr__    属性引用        x.undefined\n",
    "__getitem__    索引            x[key],for循环,in测试\n",
    "__setitem__    索引赋值        x[key] = value\n",
    "__getslice__    分片            x[low:high]\n",
    "__len__        长度            len(x)\n",
    "__cmp__        比较            x == Y ，x < y\n",
    "__radd__    右边的操作符\"+\"        非实例 + x\n",
    "```\n",
    "\n",
    "- **抛出异常**\n",
    "\n",
    "```\n",
    "raise Exception(\"ERROR xxxxx\")\n",
    "```"
   ]
  },
  {
   "cell_type": "code",
   "execution_count": 97,
   "metadata": {
    "collapsed": true
   },
   "outputs": [],
   "source": [
    "class Node:\n",
    "    def __init__(self,data):\n",
    "        self.data = data\n",
    "        self.next = None\n",
    "\n",
    "\n",
    "class LinkedList:\n",
    "\n",
    "    def __init__(self):\n",
    "        self.head = None\n",
    "\n",
    "    def isEmpty(self):\n",
    "        return self.head == None\n",
    "                \n"
   ]
  },
  {
   "cell_type": "markdown",
   "metadata": {},
   "source": [
    "# 2. 双向链表\n",
    "\n",
    "- 在单链表中, 由于有 `next` 属性, 使得要查找下一节点的时间复杂度为 $O(1)$. 可如果要查找上一个节点的话, 那就要每次都从头开始遍历查找, 最坏情况下时间复杂度是 $O(n)$\n",
    "- 为了克服这一缺点, 可在单链表的基础上, 再设置一个指向其前驱结点的属性， 即双向链表\n",
    "\n",
    "## 练习\n",
    "\n",
    "为双向链表添加 `insert` 和 `pop` 方法."
   ]
  },
  {
   "cell_type": "markdown",
   "metadata": {},
   "source": [
    "![](pic/doublelinkinsert.png)\n",
    "![](pic/doublelinkdelete.png)"
   ]
  },
  {
   "cell_type": "code",
   "execution_count": null,
   "metadata": {
    "collapsed": true
   },
   "outputs": [],
   "source": [
    "class DoubleNode:\n",
    "    def __init__(self,data):\n",
    "        self.data = data\n",
    "        self.next = None\n",
    "        self.prior = None\n",
    "\n",
    "\n",
    "class DoubleLinkedList:\n",
    "\n",
    "    def __init__(self):\n",
    "        self.head = None\n",
    "\n",
    "    def isEmpty(self):\n",
    "        return self.head == None"
   ]
  }
 ],
 "metadata": {
  "kernelspec": {
   "display_name": "Python 3",
   "language": "python",
   "name": "python3"
  },
  "language_info": {
   "codemirror_mode": {
    "name": "ipython",
    "version": 3
   },
   "file_extension": ".py",
   "mimetype": "text/x-python",
   "name": "python",
   "nbconvert_exporter": "python",
   "pygments_lexer": "ipython3",
   "version": "3.6.3"
  }
 },
 "nbformat": 4,
 "nbformat_minor": 2
}
