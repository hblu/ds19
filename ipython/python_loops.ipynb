{
 "cells": [
  {
   "cell_type": "markdown",
   "metadata": {},
   "source": [
    "# Python 中的循环\n",
    "\n",
    "![](http://res.cloudinary.com/dyd911kmh/image/upload/f_auto,q_auto:best/v1508331558/Loop_2-2_igl4qt.jpg)\n",
    "\n",
    "- `while` 循环\n",
    "- `for` 循环\n",
    "\n",
    "## `while` 循环\n",
    "\n",
    "\n",
    "```python\n",
    "while condition:\n",
    "    block of code\n",
    "```"
   ]
  },
  {
   "cell_type": "code",
   "execution_count": 3,
   "metadata": {},
   "outputs": [
    {
     "name": "stdout",
     "output_type": "stream",
     "text": [
      "Thank you\n",
      "Thank you\n",
      "Thank you\n"
     ]
    }
   ],
   "source": [
    "# Take user input\n",
    "number = 2  \n",
    "\n",
    "# Condition of the while loop\n",
    "while number < 5 :  \n",
    "    print(\"Thank you\")\n",
    "    # Increment the value of the variable \"number by 1\"\n",
    "    number = number + 1"
   ]
  },
  {
   "cell_type": "markdown",
   "metadata": {},
   "source": [
    "## `if` - `else`: 条件判断\n",
    "\n",
    "```python\n",
    "if condition:\n",
    "    block of code\n",
    "else:\n",
    "    block of code\n",
    "```"
   ]
  },
  {
   "cell_type": "code",
   "execution_count": 4,
   "metadata": {},
   "outputs": [
    {
     "name": "stdout",
     "output_type": "stream",
     "text": [
      "The number 2 is even\n",
      "The number 3 is odd\n",
      "The number 4 is even\n"
     ]
    }
   ],
   "source": [
    "# Take user input\n",
    "number = 2 \n",
    "\n",
    "# Condition of the while loop\n",
    "while number < 5 :  \n",
    "    # Find the mod of 2\n",
    "    if number % 2 == 0:  \n",
    "        print(\"The number \" + str(number) + \" is even\")\n",
    "    else:\n",
    "        print(\"The number \" + str(number) + \" is odd\")\n",
    "\n",
    "    # Increment `number` by 1\n",
    "    number = number + 1"
   ]
  },
  {
   "cell_type": "markdown",
   "metadata": {},
   "source": [
    "###  Collatz 猜想\n",
    "\n",
    "    Does the Collatz sequence eventually reach 1 for all positive integer initial values?\n",
    "    \n",
    "$$\n",
    "{\\displaystyle f(n)={\\begin{cases}n/2&{\\text{if }}n\\equiv 0\\\\3n+1&{\\text{if }}n\\equiv 1\\end{cases}}{\\pmod {2}}.}\n",
    "$$\n",
    "\n",
    "## Examples\n",
    "\n",
    "For instance, starting with $n = 12$, one gets the sequence 12, 6, 3, 10, 5, 16, 8, 4, 2, 1.\n",
    "\n",
    "$n = 19$, for example, takes longer to reach 1: 19, 58, 29, 88, 44, 22, 11, 34, 17, 52, 26, 13, 40, 20, 10, 5, 16, 8, 4, 2, 1.\n",
    "\n",
    "The sequence for $n = 27$, listed and graphed below, takes 111 steps (41 steps through odd numbers, in large font), climbing to 9232 before descending to 1.\n",
    "\n",
    "    27, 82, 41, 124, 62, 31, 94, 47, 142, 71, 214, 107, 322, 161, 484, 242, 121, 364, 182, 91, 274, 137, 412, 206, 103, 310, 155, 466, 233, 700, 350, 175, 526, 263, 790, 395, 1186, 593, 1780, 890, 445, 1336, 668, 334, 167, 502, 251, 754, 377, 1132, 566, 283, 850, 425, 1276, 638, 319, 958, 479, 1438, 719, 2158, 1079, 3238, 1619, 4858, 2429, 7288, 3644, 1822, 911, 2734, 1367, 4102, 2051, 6154, 3077, 9232, 4616, 2308, 1154, 577, 1732, 866, 433, 1300, 650, 325, 976, 488, 244, 122, 61, 184, 92, 46, 23, 70, 35, 106, 53, 160, 80, 40, 20, 10, 5, 16, 8, 4, 2, 1\n",
    "    \n",
    "![](https://upload.wikimedia.org/wikipedia/commons/thumb/9/96/Collatz5.svg/440px-Collatz5.svg.png)\n",
    "  \n",
    "\n",
    "## 练习:  编程验证 Collatz 猜想\n",
    "\n",
    "编写一个函数 `collatz()`, 它允许用户在名为 `number` 的变量中输入一个整数. 如果 `number` 是偶数, 则打印 (`print`) 并返回 (`return`) `number/2`; 如果 `number` 是奇数, 则打印 (`print`) 并返回 (`return`) `3 * number + 1`. 程序不断调用函数 `collatz()` 直到它的返回值为 `1`.\n",
    "\n",
    "## `def`: 自定义函数\n",
    "\n",
    "```python\n",
    "def function_name(param1, param2, ...):\n",
    "    body\n",
    "    return value\n",
    "```"
   ]
  },
  {
   "cell_type": "code",
   "execution_count": null,
   "metadata": {
    "collapsed": true
   },
   "outputs": [],
   "source": [
    "def collatz(number):\n",
    "    # Is the mod of 2 equal to 0?\n",
    "    if ________:\n",
    "        print(number // 2)\n",
    "        return number // 2\n",
    "\n",
    "    # If the mod of 2 isn't equal to 0, print `3 * number + 1`\n",
    "    elif ________:\n",
    "        print(3 * number + 1)\n",
    "        return 3 * number + 1\n",
    "\n",
    "# Ask input from the user    \n",
    "n = input(\"Give me a number: \")\n",
    "n = int(n)\n",
    "\n",
    "# As long as `n` is not equal to `1`, run `collatz()`\n",
    "while ______:\n",
    "    n = collatz(n)"
   ]
  },
  {
   "cell_type": "markdown",
   "metadata": {},
   "source": [
    "## `For` 循环\n",
    "\n",
    "```python\n",
    "for iterating_var in sequence:\n",
    "    body\n",
    "```"
   ]
  },
  {
   "cell_type": "code",
   "execution_count": 13,
   "metadata": {},
   "outputs": [
    {
     "name": "stdout",
     "output_type": "stream",
     "text": [
      "Thank you\n",
      "Thank you\n",
      "Thank you\n",
      "Thank you\n",
      "Thank you\n"
     ]
    }
   ],
   "source": [
    "# Print \"Thank you\" 5 times\n",
    "for number in range(5):\n",
    "    print(\"Thank you\")"
   ]
  },
  {
   "cell_type": "code",
   "execution_count": 14,
   "metadata": {},
   "outputs": [
    {
     "name": "stdout",
     "output_type": "stream",
     "text": [
      "Current language: R\n",
      "Current language: Python\n",
      "Current language: Scala\n",
      "Current language: Java\n",
      "Current language: Julia\n"
     ]
    }
   ],
   "source": [
    "languages = ['R', 'Python',  'Scala', 'Java', 'Julia']\n",
    "\n",
    "for index in range(len(languages)):\n",
    "   print('Current language:', languages[index])"
   ]
  },
  {
   "cell_type": "code",
   "execution_count": 15,
   "metadata": {},
   "outputs": [
    {
     "name": "stdout",
     "output_type": "stream",
     "text": [
      "Current language:R\n",
      "Current language:Python\n",
      "Current language:Scala\n",
      "Current language:Java\n",
      "Current language:Julia\n"
     ]
    }
   ],
   "source": [
    "for i in languages:\n",
    "    print('Current language:' + i)"
   ]
  },
  {
   "cell_type": "markdown",
   "metadata": {},
   "source": [
    "## `while` vs. `for`\n",
    "\n",
    "### 1.  `while` 循环和 `for` 循环可以互相转换"
   ]
  },
  {
   "cell_type": "code",
   "execution_count": 16,
   "metadata": {},
   "outputs": [
    {
     "name": "stdout",
     "output_type": "stream",
     "text": [
      "Thank you\n",
      "Thank you\n",
      "Thank you\n"
     ]
    }
   ],
   "source": [
    "# Take user input\n",
    "number = 2  \n",
    "\n",
    "while number < 5 :\n",
    "    print(\"Thank you\")\n",
    "    # Increment `number` by 1\n",
    "    number = number+1"
   ]
  },
  {
   "cell_type": "code",
   "execution_count": 17,
   "metadata": {},
   "outputs": [
    {
     "name": "stdout",
     "output_type": "stream",
     "text": [
      "Thank you\n",
      "Thank you\n",
      "Thank you\n"
     ]
    }
   ],
   "source": [
    "# Print \"Thank you\" 3 times\n",
    "for number in range(3) :  \n",
    "    print(\"Thank you\")"
   ]
  },
  {
   "cell_type": "markdown",
   "metadata": {},
   "source": [
    "### 2. `for` 循环比 `while` 循环更快"
   ]
  },
  {
   "cell_type": "code",
   "execution_count": 20,
   "metadata": {},
   "outputs": [
    {
     "data": {
      "text/plain": [
       "3.3557346849993337"
      ]
     },
     "execution_count": 20,
     "metadata": {},
     "output_type": "execute_result"
    }
   ],
   "source": [
    "import timeit\n",
    "\n",
    "# A for loop example\n",
    "def for_loop():\n",
    "    for number in range(100) :  \n",
    "        # Execute the below code 100 times\n",
    "        sum = 3 + 4\n",
    "\n",
    "\n",
    "timeit.timeit(for_loop)"
   ]
  },
  {
   "cell_type": "code",
   "execution_count": 23,
   "metadata": {},
   "outputs": [
    {
     "data": {
      "text/plain": [
       "8.558438760999707"
      ]
     },
     "execution_count": 23,
     "metadata": {},
     "output_type": "execute_result"
    }
   ],
   "source": [
    "# A while loop example\n",
    "def while_loop():\n",
    "    i =0\n",
    "    while i<100:\n",
    "        sum = 3+4\n",
    "        i += 1\n",
    "\n",
    "timeit.timeit(while_loop)"
   ]
  },
  {
   "cell_type": "markdown",
   "metadata": {},
   "source": [
    "### 注意:\n",
    "\n",
    "所有 Python 代码都是用 C 编译器编译的, 即你在上面看到的代码首先被分解为字节码, 然后由底层 C 编译器处理.\n",
    "\n",
    "- 当上面例子中 `for` 循环的执行开始时, Python 解释器与底层 C 编译器进行通信, 然后创建一个大小为 `100` 的列表对象. 接下来, 它调用一个**迭代器** (iterator) 来触及 (touch) 列表中的 `100` 个元素.\n",
    "\n",
    "- 另一方面, `while` 循环的执行不会创建任何列表对象. 事实上, 底层的 C 编译器会调用 `99` 次布尔运算.\n",
    "\n",
    "- 可以想象, 迭代遍历已经创建好的具有 `100` 个元素的列表对象对于编译器来说比对重复执行 `99` 次布尔操作更容易. 因此 `for` 循环的时间性能要好于 `while` 循环的时间性能. 这在执行时间中很明显: `for` 循环完成的时间比 `while` 循环需要完成的时间要小得多"
   ]
  },
  {
   "cell_type": "code",
   "execution_count": null,
   "metadata": {
    "collapsed": true
   },
   "outputs": [],
   "source": [
    "# Set `fib_no` to 55, the number until where you want to print\n",
    "fib_no = 55\n",
    "\n",
    "# Set `first_no` to 0\n",
    "first_no = 0\n",
    "\n",
    "# Set `second_no` to 1\n",
    "second_no = 1\n",
    "\n",
    "# Set the counter `count` to 0 \n",
    "count = 0\n",
    "\n",
    "# while loop to print the fibonacci series until the `fib_no`\n",
    "while first_no <= fib_no:\n",
    "       # Print `first_no`\n",
    "       print(first_no)\n",
    "       \n",
    "       # Fibonnacci number\n",
    "       nth = first_no + __________\n",
    "       \n",
    "       # update values of `first_no` and `second_no`\n",
    "       first_no = ____________\n",
    "       second_no = ___\n",
    "       \n",
    "       # Set counter `count` +1\n",
    "       __________"
   ]
  },
  {
   "cell_type": "code",
   "execution_count": null,
   "metadata": {
    "collapsed": true
   },
   "outputs": [],
   "source": [
    "# Initialize `first_no` to `0`\n",
    "first_no = 0\n",
    "\n",
    "# Initialize `second_no` to `1`\n",
    "second_no = 1\n",
    "\n",
    "# Initialize `numbers`\n",
    "numbers = ____\n",
    "\n",
    "# Find and display Fibonacci series\n",
    "for num in range(_____):\n",
    "           if(num < 1):\n",
    "           # Update only `nth`\n",
    "                      nth = 1\n",
    "           else:\n",
    "           # Update the values `nth`, `first_no` and `second_no`\n",
    "                      nth = ______ + ______\n",
    "                      first_no = _______\n",
    "                      second_no = _______\n",
    "                      \n",
    "           # Print `nth`\n",
    "           print(nth)"
   ]
  },
  {
   "cell_type": "markdown",
   "metadata": {},
   "source": [
    "## 嵌套循环 Nested Loops"
   ]
  },
  {
   "cell_type": "code",
   "execution_count": null,
   "metadata": {
    "collapsed": true
   },
   "outputs": [],
   "source": [
    "# Take user input\n",
    "number = 2 \n",
    "\n",
    "# condition of the while loop\n",
    "while number < 5 :  \n",
    "    # condition of the nested while loop    \n",
    "    while number % 2 == 0: \n",
    "        print(\"The number \"+ str(number)+\" is even\")\n",
    "    "
   ]
  },
  {
   "cell_type": "code",
   "execution_count": 32,
   "metadata": {
    "scrolled": true
   },
   "outputs": [
    {
     "name": "stdout",
     "output_type": "stream",
     "text": [
      "-------------------------------------------\n",
      "I am outer loop iteration 0\n",
      "****************************\n",
      "I am inner loop iteration 0\n",
      "****************************\n",
      "I am inner loop iteration 1\n",
      "****************************\n",
      "I am inner loop iteration 2\n",
      "****************************\n",
      "I am inner loop iteration 3\n",
      "****************************\n",
      "I am inner loop iteration 4\n",
      "-------------------------------------------\n",
      "I am outer loop iteration 1\n",
      "****************************\n",
      "I am inner loop iteration 0\n",
      "****************************\n",
      "I am inner loop iteration 1\n",
      "****************************\n",
      "I am inner loop iteration 2\n",
      "****************************\n",
      "I am inner loop iteration 3\n",
      "****************************\n",
      "I am inner loop iteration 4\n",
      "-------------------------------------------\n",
      "I am outer loop iteration 2\n",
      "****************************\n",
      "I am inner loop iteration 0\n",
      "****************************\n",
      "I am inner loop iteration 1\n",
      "****************************\n",
      "I am inner loop iteration 2\n",
      "****************************\n",
      "I am inner loop iteration 3\n",
      "****************************\n",
      "I am inner loop iteration 4\n"
     ]
    }
   ],
   "source": [
    "# Print the below statement 3 times\n",
    "for number in range(3) :  \n",
    "    print(\"-------------------------------------------\")\n",
    "    print(\"I am outer loop iteration \" + str(number))\n",
    "    # Inner loop\n",
    "    for another_number in range(5):  \n",
    "        print(\"****************************\")\n",
    "        print(\"I am inner loop iteration \" + str(another_number))"
   ]
  },
  {
   "cell_type": "markdown",
   "metadata": {},
   "source": [
    "### 练习: 使用 `for` 循环绘制下面图形\n",
    "\n",
    "![](http://res.cloudinary.com/dyd911kmh/image/upload/f_auto,q_auto:best/v1508324692/Screenshot_2017-10-18_11.33.20_irvwl6.png)"
   ]
  },
  {
   "cell_type": "code",
   "execution_count": null,
   "metadata": {
    "collapsed": true
   },
   "outputs": [],
   "source": [
    "# Initialize the first five rows\n",
    "n = ____\n",
    "\n",
    "# Start the loop to print the first five rows\n",
    "for i in range(____):\n",
    "    for j in range(____):\n",
    "        print('* ', end=\"\")\n",
    "    print('')\n",
    "\n",
    "# Start the loop to print the remaining rows in decreasing order of stars\n",
    "for i in range(n, 0, -1):\n",
    "    for j in range(____):\n",
    "        print('* ', end=\"\")\n",
    "    print('')"
   ]
  },
  {
   "cell_type": "markdown",
   "metadata": {},
   "source": [
    "## `break`, `continue`: 创建有限循环\n",
    "\n",
    "- `break`: 结束整个循环"
   ]
  },
  {
   "cell_type": "code",
   "execution_count": null,
   "metadata": {
    "collapsed": true
   },
   "outputs": [],
   "source": [
    "# Take user input\n",
    "number = 2 \n",
    "\n",
    "# Condition of the while loop\n",
    "while number < 5 :  \n",
    "    # condition of the nested while loop\n",
    "    while number % 2 == 0:  \n",
    "        print(\"The number \" + str(number) + \" is even\")\n",
    "        break\n",
    "\n",
    "    number += 1"
   ]
  },
  {
   "cell_type": "code",
   "execution_count": null,
   "metadata": {
    "collapsed": true
   },
   "outputs": [],
   "source": [
    "# Print the below statement 3 times\n",
    "for number in range(3) : \n",
    "    print(\"-------------------------------------------\")\n",
    "    print(\"I am outer loop iteration \" + str(number))\n",
    "    for another_number in range(3):\n",
    "        print(\"****************************\")\n",
    "        print(\"I am inner loop iteration \" + str(another_number))\n",
    "        break"
   ]
  },
  {
   "cell_type": "markdown",
   "metadata": {},
   "source": [
    "- `continute`: 结束本次循环"
   ]
  },
  {
   "cell_type": "code",
   "execution_count": null,
   "metadata": {
    "collapsed": true
   },
   "outputs": [],
   "source": [
    "# Take user input\n",
    "number = 2 \n",
    "\n",
    "while number < 5 :\n",
    "    while number % 2 == 0: \n",
    "        print(\"The number \" + str(number) + \" is even\")\n",
    "        break\n",
    "\n",
    "    continue\n",
    "\n",
    "    number += 1"
   ]
  },
  {
   "cell_type": "code",
   "execution_count": null,
   "metadata": {
    "collapsed": true
   },
   "outputs": [],
   "source": [
    "# Print the below statement 3 times\n",
    "for number in range(3) :  \n",
    "    print(\"-------------------------------------------\")\n",
    "    print(\"I am outer loop iteration \" + str(number))\n",
    "    continue\n",
    "    for another_number in range(3):\n",
    "        print(\"****************************\")\n",
    "        print(\"I am inner loop iteration \" + str(another_number))\n",
    "        break"
   ]
  },
  {
   "cell_type": "markdown",
   "metadata": {},
   "source": [
    "### `range( )` \n",
    "\n",
    "```python\n",
    "range(end)\n",
    "range(begin, end, by)\n",
    "```"
   ]
  },
  {
   "cell_type": "code",
   "execution_count": 45,
   "metadata": {},
   "outputs": [
    {
     "name": "stdout",
     "output_type": "stream",
     "text": [
      "0\n",
      "1\n",
      "2\n",
      "3\n",
      "4\n"
     ]
    }
   ],
   "source": [
    "for i in range(5):\n",
    "    print(i)"
   ]
  },
  {
   "cell_type": "code",
   "execution_count": 46,
   "metadata": {},
   "outputs": [
    {
     "name": "stdout",
     "output_type": "stream",
     "text": [
      "1\n",
      "3\n",
      "5\n",
      "7\n",
      "9\n"
     ]
    }
   ],
   "source": [
    "for i in range(1, 10, 2):\n",
    "    print(i)"
   ]
  },
  {
   "cell_type": "code",
   "execution_count": 48,
   "metadata": {
    "scrolled": true
   },
   "outputs": [
    {
     "name": "stdout",
     "output_type": "stream",
     "text": [
      "10\n",
      "9\n",
      "8\n",
      "7\n",
      "6\n",
      "5\n",
      "4\n",
      "3\n",
      "2\n",
      "1\n"
     ]
    }
   ],
   "source": [
    "for i in range(10, 0, -1):\n",
    "    print(i)"
   ]
  },
  {
   "cell_type": "markdown",
   "metadata": {},
   "source": [
    "### 练习: 使用本节知识, 编写用辗转相除法计算两正整数的最大公约数函数 `gcd(m, n)`"
   ]
  }
 ],
 "metadata": {
  "kernelspec": {
   "display_name": "Python 3",
   "language": "python",
   "name": "python3"
  },
  "language_info": {
   "codemirror_mode": {
    "name": "ipython",
    "version": 3
   },
   "file_extension": ".py",
   "mimetype": "text/x-python",
   "name": "python",
   "nbconvert_exporter": "python",
   "pygments_lexer": "ipython3",
   "version": "3.6.3"
  }
 },
 "nbformat": 4,
 "nbformat_minor": 2
}
