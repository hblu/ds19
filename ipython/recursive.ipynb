{
 "cells": [
  {
   "cell_type": "markdown",
   "metadata": {},
   "source": [
    "## 递归\n",
    "\n",
    "学习目标 \n",
    "\n",
    "- 理解什么是递归\n",
    "- 理解递归与循环的关系\n",
    "- 某些很难处理的复杂问题可能有很简单的递归算法\n",
    "- 掌握简单的递归编程"
   ]
  },
  {
   "cell_type": "markdown",
   "metadata": {},
   "source": [
    "#### 什么是递归\n",
    "\n",
    "- 程序调用自身的编程技巧称为递归(recursion) \n",
    "- 递归做为一种算法在程序设计语言中广泛应用 \n",
    "- 一个过程或函数在其定义或说明中有直接或间接调用自身的一种方法, 它通常把一个大型复杂的问题层层转化为一个与原问题相似的规模较小的问题来求解\n",
    "- 递归策略只需少量的程序就可描述出解题过程所需要的多次重复计算, 大大地减少了程序的代码量"
   ]
  },
  {
   "cell_type": "markdown",
   "metadata": {},
   "source": [
    "#### 构成递归需具备的条件：\n",
    "\n",
    "- 递归需要有边界条件\n",
    "- 递归前进段\n",
    "- 递归返回段\n",
    "\n",
    "当边界条件不满足时, 递归前进; 当边界条件满足时, 递归返回."
   ]
  },
  {
   "cell_type": "markdown",
   "metadata": {},
   "source": [
    "#### 例: 计算列表元素的和 "
   ]
  },
  {
   "cell_type": "code",
   "execution_count": null,
   "metadata": {
    "collapsed": false
   },
   "outputs": [],
   "source": [
    "#循环算法\n",
    "def listsum(numList):\n",
    "    theSum = 0\n",
    "    for i in range(len(numList)):\n",
    "        theSum += numList[i]\n",
    "    return theSum\n",
    "\n",
    "print(listsum([1,3,5,7,9]))"
   ]
  },
  {
   "cell_type": "markdown",
   "metadata": {},
   "source": [
    "$$\n",
    "(1+(3+(5+(7+9))))\n",
    "$$"
   ]
  },
  {
   "cell_type": "code",
   "execution_count": null,
   "metadata": {
    "collapsed": false,
    "scrolled": true
   },
   "outputs": [],
   "source": [
    "#递归算法\n",
    "def listsum2(numList):\n",
    "    if len(numList) == 1:\n",
    "        return numList[0]\n",
    "    else:\n",
    "        return numList[0]+listsum2(numList[1:])\n",
    "\n",
    "print(listsum2([1,3,5,7,9]))"
   ]
  },
  {
   "cell_type": "markdown",
   "metadata": {},
   "source": [
    "递归前进\n",
    "![](./img/linear_structure/sumlistIn.png)\n",
    "递归返回\n",
    "![](./img/linear_structure/sumlistOut.png)"
   ]
  },
  {
   "cell_type": "markdown",
   "metadata": {},
   "source": [
    "**练习:** 如果将求和过程看成 $(1+(3+(5+(7+9))))$. 如何用递归算法描述该过程? 为了计算该表达式共需多少次递归调用?"
   ]
  },
  {
   "cell_type": "markdown",
   "metadata": {},
   "source": [
    "#### 练习: 斐波那契数列\n",
    "\n",
    "$$\n",
    "f(n)=f(n-1)+f(n-2),\n",
    "$$\n",
    "$$\n",
    "f(0)=f(1)=1.\n",
    "$$\n",
    "\n",
    "- 分别使用递归算法和循环算法实现求 $f(n)$ 的算法"
   ]
  },
  {
   "cell_type": "code",
   "execution_count": null,
   "metadata": {
    "collapsed": true
   },
   "outputs": [],
   "source": [
    "#递归实现\n",
    "def fibonacci(n):\n",
    "    if n <= 1:\n",
    "        return 1\n",
    "    else:\n",
    "        return fibonacci(n-1)+fibonacci(n-2)"
   ]
  },
  {
   "cell_type": "markdown",
   "metadata": {},
   "source": [
    "- 优点: 代码简洁,易解释\n",
    "- 缺点: 大量重复计算, 复杂度为 $\\mathcal{O}(2^n)$"
   ]
  },
  {
   "cell_type": "code",
   "execution_count": null,
   "metadata": {
    "collapsed": true
   },
   "outputs": [],
   "source": [
    "#循环实现\n",
    "def fibonacci2(n):\n",
    "    if n <= 1:\n",
    "        return 1\n",
    "    \n",
    "    a,b = 1,1\n",
    "    for i in range(2,n+1):\n",
    "        a,b = b, a+b\n",
    "    return b"
   ]
  },
  {
   "cell_type": "markdown",
   "metadata": {},
   "source": [
    "- 优点: 计算快, 复杂度为 $\\mathcal{O}(n)$\n",
    "- 缺点: 代码没有递归那么简洁"
   ]
  },
  {
   "cell_type": "markdown",
   "metadata": {},
   "source": [
    "#### 练习：\n",
    "\n",
    "1. 分别使用循环和递归实现求解 $n!$\n",
    "2. 利用递归算法实现求列表中最大元素. 不同的分割方式对其时间复杂度有影响吗？\n",
    "3. 利用递归算法实现求列表元素的平均值\n",
    "\n"
   ]
  },
  {
   "cell_type": "markdown",
   "metadata": {},
   "source": [
    "#### 尾递归\n",
    "\n",
    "如果一个函数中所有递归形式的调用都出现在函数的末尾，我们称这个递归函数是尾递归的。当递归调用是整个函数体中最后执行的语句且它的返回值不属于表达式的一部分时，这个递归调用就是尾递归。尾递归函数的特点是在回归过程中不用做任何操作，这个特性很重要，因为大多数现代的编译器会利用这种特点自动生成优化的代码。\n",
    "\n",
    "**注:**\n",
    "- 递归在计算机中是由栈实现的, 通常递归的次数是有限制的\n",
    "- Python, Java 不支持尾递归优化; C 支持尾递归优化"
   ]
  },
  {
   "cell_type": "code",
   "execution_count": null,
   "metadata": {
    "collapsed": true
   },
   "outputs": [],
   "source": [
    "#将计算列表元素和的递归算法改成尾递归形式\n",
    "\n",
    "def listsum3(numList, total):  #total: 保存当前元素之和\n",
    "    if len(numList) == 1:\n",
    "        return numList[0]+total\n",
    "    else:\n",
    "        return listsum3(numList[1:], total+numList[0])"
   ]
  },
  {
   "cell_type": "code",
   "execution_count": null,
   "metadata": {
    "collapsed": true
   },
   "outputs": [],
   "source": [
    "#将斐波那契数列递归算法改成尾递归形式\n",
    "\n",
    "def fibonacci3(n, a, b):\n",
    "    if n <= 1:\n",
    "        return b\n",
    "    else:\n",
    "        return fibonacci3(n-1, b, a+b)\n",
    "    "
   ]
  },
  {
   "cell_type": "markdown",
   "metadata": {},
   "source": [
    "#### 例: 进制转换\n",
    "\n",
    "将769转换为10进制\n",
    "![](./img/linear_structure/toStr.png)"
   ]
  },
  {
   "cell_type": "code",
   "execution_count": null,
   "metadata": {
    "collapsed": true
   },
   "outputs": [],
   "source": [
    "def toStr(n, base):\n",
    "    \"\"\"\n",
    "    n: 待转换数\n",
    "    base: 进制基, 如2进制, 8进制, 10进制, 16进制\n",
    "    \"\"\"\n",
    "    convertString = \"0123456789ABCDEF\"\n",
    "    if n < base:\n",
    "        return convertString[n]\n",
    "    else:\n",
    "        return toStr(n//base, base)+convertString[n%base]\n",
    "    "
   ]
  },
  {
   "cell_type": "code",
   "execution_count": null,
   "metadata": {
    "collapsed": false
   },
   "outputs": [],
   "source": [
    "toStr(123456789,16)"
   ]
  },
  {
   "cell_type": "markdown",
   "metadata": {},
   "source": [
    "**练习:** 使用递归实现将字符串反转"
   ]
  },
  {
   "cell_type": "markdown",
   "metadata": {},
   "source": [
    "### 使用栈实现递归 \n",
    "- 任何递归程序都可以使用栈改写成非递归形式 (可能非常复杂)"
   ]
  },
  {
   "cell_type": "code",
   "execution_count": null,
   "metadata": {
    "collapsed": true
   },
   "outputs": [],
   "source": [
    "from pythonds.basic.stack import Stack\n",
    "\n",
    "def toStr2(n, base):\n",
    "    convertString = \"0123456789ABCDEF\"\n",
    "    s = Stack()\n",
    "    while n > 0:\n",
    "        if n < base:\n",
    "            s.push(convertString[n])\n",
    "        else:\n",
    "            s.push(convertString[n%base])\n",
    "        n //= base\n",
    "    result = ''\n",
    "    while not s.isEmpty():\n",
    "        result += s.pop()\n",
    "    return result"
   ]
  },
  {
   "cell_type": "code",
   "execution_count": null,
   "metadata": {
    "collapsed": false,
    "scrolled": true
   },
   "outputs": [],
   "source": [
    "toStr2(1324657890,16)"
   ]
  },
  {
   "cell_type": "markdown",
   "metadata": {},
   "source": [
    "#### 汉诺塔 (Tower of Hanoi)\n",
    "问题源于印度一个古老传说: 在世界中心贝拿勒斯（在印度北部）的圣庙里，一块黄铜板上插着三根宝石针。印度教的主神梵天在创造世界的时候，在其中一根针上从下到上地穿好了由大到小的64片金片，这就是所谓的汉诺塔。不论白天黑夜，总有一个僧侣在按照下面的法则移动这些金片：一次只移动一片，不管在哪根针上，小片必须在大片上面。僧侣们预言，当所有的金片都从梵天穿好的那根针上移到另外一根针上时，世界就将在一声霹雳中消灭，而梵塔、庙宇和众生也都将同归于尽。\n",
    "\n",
    "![](./img/linear_structure/hanoi.png)"
   ]
  },
  {
   "cell_type": "markdown",
   "metadata": {},
   "source": [
    "移动方法:\n",
    "1. 利用 toPole 将n-1个圆盘从 fromPole 移动到 withPole\n",
    "2. 将第n个圆盘从 fromPole 移动到 toPole\n",
    "3. 利用 fromPole 将n-1个圆盘从 withPole 移动到 toPole"
   ]
  },
  {
   "cell_type": "code",
   "execution_count": null,
   "metadata": {
    "collapsed": true
   },
   "outputs": [],
   "source": [
    "def hanoi(n, fromPole, toPole, withPole):\n",
    "    if n == 1:\n",
    "        moveDisk(fromPole, toPole)\n",
    "    else:\n",
    "        hanoi(n-1, fromPole, withPole, toPole)\n",
    "        moveDisk(fromPole, toPole)\n",
    "        hanoi(n-1, withPole, toPole, fromPole)\n",
    "        \n",
    "def moveDisk(fromPole, toPole):\n",
    "    print(\"Move disk from (%s) to (%s)\" % (fromPole, toPole))\n",
    "    "
   ]
  },
  {
   "cell_type": "code",
   "execution_count": null,
   "metadata": {
    "collapsed": false,
    "scrolled": true
   },
   "outputs": [],
   "source": [
    "hanoi(3, \"A\", \"B\", \"C\")"
   ]
  },
  {
   "cell_type": "markdown",
   "metadata": {},
   "source": [
    "#### 汉诺塔递归算法时间复杂度:\n",
    "\n",
    "$$\n",
    "\\begin{split}\n",
    "T(n) &= 2T(n-1)+1\\\\\n",
    "&=2(2T(n-2)+1)+1\\\\\n",
    "&=2^kT(n-k)+2^{k-1}+\\cdots+1\\\\\n",
    "&=2^{n-1}T(1)+2^{n-1}-1\\\\\n",
    "&=2^n-1\\\\\n",
    "&=\\mathcal{O}(2^n)\n",
    "\\end{split}\n",
    "$$"
   ]
  },
  {
   "cell_type": "markdown",
   "metadata": {},
   "source": [
    "### 可视化递归 (Visualizing Recursion)\n",
    "\n",
    "我们使用Python图形模块 `turtle` 来绘制一些有趣的递归过程"
   ]
  },
  {
   "cell_type": "code",
   "execution_count": null,
   "metadata": {
    "collapsed": false
   },
   "outputs": [],
   "source": [
    "#例1:\n",
    "\n",
    "import turtle #导入\"乌龟\"绘图模块\n",
    "\n",
    "myTurtle = turtle.Turtle() #创建一个\"乌龟\"\n",
    "myWin = turtle.Screen()    #创建一个屏幕\n",
    "\n",
    "def drawSpiral(myTurtle, lineLen):\n",
    "    if lineLen > 0:\n",
    "        myTurtle.forward(lineLen)\n",
    "        myTurtle.right(90)\n",
    "        drawSpiral(myTurtle,lineLen-5)\n",
    "\n",
    "drawSpiral(myTurtle,100)\n",
    "myWin.exitonclick()   #点击屏幕退出\n"
   ]
  },
  {
   "cell_type": "code",
   "execution_count": null,
   "metadata": {
    "collapsed": false
   },
   "outputs": [],
   "source": [
    "#例2:\n",
    "\n",
    "import turtle\n",
    "\n",
    "def tree(branchLen,t):\n",
    "    if branchLen > 5:\n",
    "        t.forward(branchLen)\n",
    "        t.right(20)\n",
    "        tree(branchLen-15,t)\n",
    "        t.left(40)\n",
    "        tree(branchLen-15,t)\n",
    "        t.right(20)\n",
    "        t.backward(branchLen)\n",
    "\n",
    "\n",
    "t = turtle.Turtle()\n",
    "myWin = turtle.Screen()\n",
    "t.left(90)  #乌龟左旋转90度\n",
    "t.up()      #提起画笔\n",
    "t.backward(100)  #后退100个像素点\n",
    "t.down()       #放下画笔\n",
    "t.color(\"brown\")   #改变颜色\n",
    "tree(75,t)\n",
    "myWin.exitonclick()\n",
    "\n"
   ]
  },
  {
   "cell_type": "markdown",
   "metadata": {},
   "source": [
    "**练习**: 修改生成\"树\"的代码, 满足以下要求\n",
    "\n",
    "- 树枝的粗度随着`branchLen` 的变小而变细\n",
    "- 当 `branchLen` 变得很小时, 将树枝的颜色改成绿色来模拟树叶\n",
    "- 修改乌龟在每个树枝处旋转的角度, 取15-45度之间的随机值\n",
    "- 修改每次递归时树枝的长度 `branchLen`, 使得每次减少的长度是 3-7 之间的一个随机值 \n",
    "\n",
    "![](./img/linear_structure/tall-tree.jpg)"
   ]
  },
  {
   "cell_type": "markdown",
   "metadata": {},
   "source": [
    "### 谢尔宾斯基三角形\n",
    "\n",
    "去掉中心\n",
    "1. 取一个实心的三角形（多数使用等边三角形）\n",
    "2. 沿三边中点的连线，将它分成四个小三角形\n",
    "3. 去掉中间的那一个小三角形\n",
    "4. 对其余三个小三角形重复1\n",
    "\n",
    "\n",
    "- 如果用上面的方法无限连续地作下去，则谢尔宾斯基三角形的面积越趋近于零，而它的周长越趋近于无限大\n",
    "\n",
    "![](./img/linear_structure/sierpinski.jpg)"
   ]
  },
  {
   "cell_type": "code",
   "execution_count": null,
   "metadata": {
    "collapsed": false
   },
   "outputs": [],
   "source": [
    "import turtle\n",
    "\n",
    "def drawTriangle(points,color,myTurtle):\n",
    "    myTurtle.fillcolor(color)\n",
    "    myTurtle.up()\n",
    "    myTurtle.goto(points[0][0],points[0][1])\n",
    "    myTurtle.down()\n",
    "    myTurtle.begin_fill()\n",
    "    myTurtle.goto(points[1][0],points[1][1])\n",
    "    myTurtle.goto(points[2][0],points[2][1])\n",
    "    myTurtle.goto(points[0][0],points[0][1])\n",
    "    myTurtle.end_fill()\n",
    "\n",
    "def getMid(p1,p2):\n",
    "    return ( (p1[0]+p2[0]) / 2, (p1[1] + p2[1]) / 2)\n",
    "\n",
    "def sierpinski(points,degree,myTurtle):\n",
    "    colormap = ['blue','red','green','white','yellow','violet','orange']\n",
    "    drawTriangle(points,colormap[degree],myTurtle)\n",
    "\n",
    "    if degree > 0:\n",
    "        sierpinski([points[0],\n",
    "                    getMid(points[0], points[1]),\n",
    "                    getMid(points[0], points[2])],\n",
    "                   degree-1, myTurtle)\n",
    "        sierpinski([points[1],\n",
    "                    getMid(points[1], points[2]),\n",
    "                    getMid(points[1], points[0])],\n",
    "                   degree-1, myTurtle)\n",
    "        sierpinski([points[2],\n",
    "                    getMid(points[2], points[0]),\n",
    "                    getMid(points[1], points[2])],\n",
    "                   degree-1, myTurtle)\n",
    "\n",
    "\n",
    "myTurtle = turtle.Turtle()\n",
    "myWin = turtle.Screen()\n",
    "myPoints = [[-100,-50],[0,100],[100,-50]]  #二维列表\n",
    "sierpinski(myPoints,5, myTurtle)\n",
    "myWin.exitonclick()"
   ]
  },
  {
   "cell_type": "markdown",
   "metadata": {},
   "source": [
    "![](./img/linear_structure/stCallTree.png)"
   ]
  },
  {
   "cell_type": "markdown",
   "metadata": {},
   "source": [
    "#### 练习: 绘制谢尔宾斯基地毯\n",
    "![](./img/linear_structure/sierpinski2.png)"
   ]
  }
 ],
 "metadata": {
  "kernelspec": {
   "display_name": "Python 2",
   "language": "python",
   "name": "python2"
  },
  "language_info": {
   "codemirror_mode": {
    "name": "ipython",
    "version": 2
   },
   "file_extension": ".py",
   "mimetype": "text/x-python",
   "name": "python",
   "nbconvert_exporter": "python",
   "pygments_lexer": "ipython2",
   "version": "2.7.10"
  }
 },
 "nbformat": 4,
 "nbformat_minor": 0
}
