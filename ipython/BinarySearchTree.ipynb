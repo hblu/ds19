{
 "cells": [
  {
   "cell_type": "markdown",
   "metadata": {},
   "source": [
    "# 二叉搜索树"
   ]
  },
  {
   "cell_type": "code",
   "execution_count": null,
   "metadata": {
    "collapsed": true
   },
   "outputs": [],
   "source": [
    "class BinarySearchTree:\n",
    "\n",
    "    # 初始化当前结点：key-关键字, leftChild-左孩子结点, rightChild-右孩子结点, parent-父节点\n",
    "    def __init__(self, key, left = None, right = None, parent = None):\n",
    "        self.key = key\n",
    "        self.leftChild = left\n",
    "        self.rightChild = right\n",
    "        self.parent = parent\n",
    "\n",
    "\n",
    "    #判断当前结点是否是左孩子\n",
    "    def isLeftChild(self):\n",
    "        return self.parent and self.parent.leftChild == self\n",
    "\n",
    "\n",
    "    #判断当前结点是否是右孩子\n",
    "    def isRightChild(self):\n",
    "        \n",
    "        \n",
    "    #判断当前结点是否是根结点\n",
    "    def isRoot(self):\n",
    "        \n",
    "    \n",
    "    #判断当前结点是否是叶子节点\n",
    "    def isLeaf(self):\n",
    "        \n",
    "\n",
    "    #判断当前结点是否有两个孩子结点\n",
    "    def hasBothChildren(self):\n",
    "\n",
    "\n",
    "\n",
    "    #查找关键字为 key 的结点\n",
    "    # 与当前结点比较\n",
    "    #   - 如果相同，返回当前结点\n",
    "    #   - 如果小于当前结点，且左孩子存在，在左孩子处进行查找，否则返回没找到\n",
    "    #   - 如果大于当前结点，且右孩子存在，在右孩子处进行查找，否则返回没找到\n",
    "    \n",
    "    def search(self, key):\n",
    "\n",
    "\n",
    "\n",
    "    #插入关键字为 key 的结点\n",
    "    # 与当前结点比较\n",
    "    #    - 如果小于当前结点\n",
    "    #        - 若左孩子存在，则在左孩子处进行插入\n",
    "    #        - 否则创建关键字为 key 的结点，将其作为当前结点的左孩子\n",
    "    #    - 如果大于当前结点\n",
    "    #        - 若右孩子存在，则在右孩子处进行插入\n",
    "    #        - 否则创建关键字为 key 的结点，将其作为当前结点的右孩子\n",
    "    \n",
    "    def insert(self, key):\n",
    "        \n",
    "\n",
    "    #获取当前结点的下一个结点\n",
    "    def getNext(self):\n",
    "\n",
    "\n",
    "    #删除关键字为 key 的结点\n",
    "    #1. 找到要删除的结点\n",
    "    #2. 如果结点存在\n",
    "    #   - 是叶子结点\n",
    "    #        - 如果是左孩子\n",
    "    #        - 如果是右孩子\n",
    "    #        - 如果是根结点\n",
    "    #   - 有两个孩子结点\n",
    "    #        - 找到该结点的后继结点\n",
    "    #        - 将后继结点的值赋给当前结点\n",
    "    #        - 删除后继结点\n",
    "    #   - 只有一个孩子结点\n",
    "    #        - 如果该结点是左孩子：它有左孩子还是右孩子\n",
    "    #        - 如果该结点是右孩子：它有左孩子还是右孩子\n",
    "    \n",
    "    def delete(self, key):\n",
    "\n",
    "        "
   ]
  },
  {
   "cell_type": "markdown",
   "metadata": {},
   "source": [
    "# 平衡二叉树"
   ]
  },
  {
   "cell_type": "code",
   "execution_count": null,
   "metadata": {
    "collapsed": true
   },
   "outputs": [],
   "source": [
    "class AVL:\n",
    "\n",
    "    def __init__(self, key, left = None, right = None, parent = None):\n",
    "        self.key = key\n",
    "        self.leftChild = left\n",
    "        self.rightChild = right\n",
    "        self.parent = parent\n",
    "        self.balanceFactor = 0"
   ]
  },
  {
   "cell_type": "markdown",
   "metadata": {},
   "source": [
    "### 插入操作\n",
    "\n",
    "- 因为所有的新键是作为叶子节点插入树的, 而新叶子的平衡因子为零, 所以我们对新插入的节点不作调整.\n",
    "- 不过一旦有新叶子的插入我们必须更新其父节点的平衡因子. \n",
    "    - 新叶子会如何影响父节点的平衡因子取决于叶节点是左子节点还是右子节点.\n",
    "        - 如果新节点是右子节点, 父节点的平衡因子减 1.\n",
    "        - 如果新节点是左子节点, 父节点的平衡因子将加 1.\n",
    "    - 这种关系有可能影响到之前的每一个甚至是根节点, 是一个递归的过程\n",
    "\n",
    "- 下面是递归更新平衡因子的两个基准状态:\n",
    "    - 递归调用已到达树的根\n",
    "    - 父节点的平衡因子已调整为零 (一旦子树平衡因子为零, 则其祖先节点的平衡性不会发生改变)\n"
   ]
  },
  {
   "cell_type": "code",
   "execution_count": null,
   "metadata": {
    "collapsed": true
   },
   "outputs": [],
   "source": [
    "#插入关键字 key\n",
    "\n",
    "def insert(self, key):\n",
    "\n",
    "    if key < self.key:\n",
    "        if self.leftChild:\n",
    "            self.leftChild.insert(key)\n",
    "        else:\n",
    "            self.leftChild = AVL(key, parent = self)\n",
    "            self.leftChild.updateBalance()\n",
    "    else:\n",
    "        if self.rightChild:\n",
    "            self.rightChild.insert(key)\n",
    "        else:\n",
    "            self.rightChild = AVL(key, parent = self)\n",
    "            self.rightChild.updateBalance()\n",
    "\n",
    "#更新平衡因子\n",
    "\n",
    "def updateBalance(self):\n",
    "    \n",
    "    #如果当前结点不平衡，调整该结点\n",
    "    \n",
    "    if self.balanceFactor > 1 or self.balanceFactor < -1:\n",
    "        self.rebalance()\n",
    "        return\n",
    "        \n",
    "    #更新父节点平衡因子\n",
    "        \n",
    "    if self.parent != None:\n",
    "        if self.isLeftChild():\n",
    "            self.parent.balanceFactor += 1\n",
    "        else:\n",
    "            self.parent.balanceFactor -= 1\n",
    "        \n",
    "        if self.parent.balanceFactor != 0:\n",
    "                self.parent.updateBalance()"
   ]
  },
  {
   "cell_type": "markdown",
   "metadata": {},
   "source": [
    "### 再平衡 \n",
    "\n",
    "- 左旋转 `rotateLeft()`\n",
    "\n",
    "![](http://hblu.coding.me/sitds16/_images/bfderive.png)\n",
    "\n",
    "    - 左旋转后平衡因子的变化:\n",
    "\n",
    "\\begin{split}\n",
    "oldBF(B) &= h_A-h_{D,old}\\\\\n",
    "newBF(B) &= h_A-h_C\\\\\n",
    "h_{D,old} &= 1+max(h_C,h_E)\\\\\n",
    "oldBF(B) &= h_A-1-max(h_C,h_E)\n",
    "\\end{split}\n",
    "\n",
    "\\begin{split}\n",
    "newBF(B)-oldBF(B)=&1+max(h_E-h_C,0)\\\\\n",
    "=&1-min(h_c-h_E,0)\\\\\n",
    "=&1-min(oldBF(D),0)\n",
    "\\end{split}\n",
    "\n",
    "    - 迭代公式\n",
    "\n",
    "$$newBF(B) = oldBF(B)+1-min(oldBF(D),0)$$\n",
    "$$newBF(D) = oldBF(D)+1+max(oldBF(B),0)$$"
   ]
  },
  {
   "cell_type": "code",
   "execution_count": null,
   "metadata": {
    "collapsed": true
   },
   "outputs": [],
   "source": [
    "def rotateLeft(self):\n",
    "\n",
    "    newRoot = self.rightChild\n",
    "    self.rightChild = newRoot.leftChild\n",
    "    \n",
    "    if newRoot.leftChild != None:\n",
    "        newRoot.leftChild.parent = self\n",
    "        \n",
    "    newRoot.parent = self.parent\n",
    "    \n",
    "    if self.isLeftChild():\n",
    "        self.parent.leftChild = newRoot\n",
    "    else:\n",
    "        self.parent.rightChild = newRoot\n",
    "            \n",
    "    newRoot.leftChild = self\n",
    "    self.parent = newRoot\n",
    "    \n",
    "    self.balanceFactor = self.balanceFactor + 1 \\\\\n",
    "    - min(newRoot.balanceFactor, 0)\n",
    "    \n",
    "    newRoot.balanceFactor = newRoot.balanceFactor + 1 \\\\\n",
    "    + max(self.balanceFactor, 0)"
   ]
  },
  {
   "cell_type": "markdown",
   "metadata": {},
   "source": [
    "### 练习\n",
    "\n",
    "- 计算右旋转后结点平衡因子的更新公式\n",
    "- 编写实现右旋转方法 `rotateRight()`\n"
   ]
  },
  {
   "cell_type": "markdown",
   "metadata": {},
   "source": [
    "### `rebalance()`\n",
    "- 如果子树需要左旋转使之平衡\n",
    "    - 首先检查右节点的平衡因子. 如果右节点左重则右节点右旋转, 然后原节点左旋转.\n",
    "- 如果子树需要右旋转使之平衡\n",
    "    - 首先检查左节点的平衡因子. 如果左节点右重则左节点左旋转, 然后原节点右旋转.\n"
   ]
  },
  {
   "cell_type": "code",
   "execution_count": null,
   "metadata": {
    "collapsed": true
   },
   "outputs": [],
   "source": [
    "def rebalance(self):\n",
    "    \n",
    "    #如果当前结点平衡因子 < 0\n",
    "    #   - 检查其右孩子平衡因子是否 > 0，若是，对其进行右旋转\n",
    "    #   - 对当前结点进行左旋转\n",
    "    \n",
    "    #如果当前结点平衡因子 > 0\n",
    "    #   - 检查其左孩子平衡因子是否 < 0，若是，对其进行左旋转\n",
    "    #   - 对当前结点进行右旋转\n",
    "    \n",
    "    "
   ]
  }
 ],
 "metadata": {
  "kernelspec": {
   "display_name": "Python 3",
   "language": "python",
   "name": "python3"
  },
  "language_info": {
   "codemirror_mode": {
    "name": "ipython",
    "version": 3
   },
   "file_extension": ".py",
   "mimetype": "text/x-python",
   "name": "python",
   "nbconvert_exporter": "python",
   "pygments_lexer": "ipython3",
   "version": "3.6.3"
  }
 },
 "nbformat": 4,
 "nbformat_minor": 2
}
