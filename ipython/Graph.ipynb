{
 "cells": [
  {
   "cell_type": "markdown",
   "metadata": {},
   "source": [
    "# 图 (Graph)"
   ]
  },
  {
   "cell_type": "markdown",
   "metadata": {},
   "source": [
    "## 1. 图的定义\n",
    "\n",
    "什么是图呢？\n",
    "\n",
    "**图是一种复杂的非线性结构**\n",
    "\n",
    "- 在线性结构中，数据元素之间满足唯一的线性关系，每个数据元素(除第一个和最后一个外)只有一个直接前趋和一个直接后继\n",
    "\n",
    "- 在树形结构中，数据元素之间有着明显的层次关系，并且每个数据元素只与上一层中的一个元素(双亲节点)及下一层的多个元素(孩子节点)相关\n",
    "\n",
    "- 而在图形结构中，节点之间的关系是任意的，图中任意两个数据元素之间都有可能相关\n",
    "\n",
    "图 $G$ 由两个集合 $V$ (**顶点集** Vertex) 和 E( **边集** Edge) 组成，定义为 $G=(V, E)$"
   ]
  },
  {
   "cell_type": "markdown",
   "metadata": {},
   "source": [
    "## 2. 图相关的概念和术语\n",
    "\n",
    "\n",
    "### 2.1. 无向图和有向图\n",
    "\n",
    "- 对于一个图, 若每条边都是没有方向的, 则称该图为 **无向图**\n",
    "\n",
    "![](https://images0.cnblogs.com/blog/311549/201309/23224319-542b3e34bb934877871ec042397c8b42.jpg)\n",
    "\n",
    "其中, $(V_i, V_j)$ 和 $(V_j,V_i)$ 表示的是同一条边\n",
    "\n",
    "*注: 无向图是用小括号, 而下面介绍的有向图是用尖括号*\n",
    "\n",
    "无向图的顶点集和边集分别表示为:\n",
    "\n",
    "$V(G)=\\{V_1, V_2, V_3, V_4, V_5\\}$\n",
    "\n",
    "$E(G)=\\{(V_1, V_2), (V_1, V_4), (V_2, V_3), (V_2, V_5), (V_3, V_4), (V_3, V_5), (V_4, V_5)\\}$\n",
    "\n",
    " \n",
    "\n",
    "- 对于一个图 $G$, 若每条边都是有方向的, 则称该图为 **有向图**\n",
    "\n",
    "![](https://images0.cnblogs.com/blog/311549/201309/23224322-bb9cc704825d448a973befed8cc93538.jpg)\n",
    "\n",
    "其中 $<V_i, V_j>$ 和 $<V_j, V_i>$ 是两条不同的有向边\n",
    "\n",
    "有向图的顶点集和边集分别表示为:\n",
    "\n",
    "$V(G)=\\{V_1,V_2,V_3\\}$\n",
    "\n",
    "$E(G)=\\{<V_1, V_2>,<V_2,V_3>,<V_3,V_1>,<V_1,V_3>\\}$\n",
    "\n",
    "### 2.2 无向完全图和有向完全图\n",
    "\n",
    "- 将具有 $n(n-1)/2$ 条边的无向图称为无向完全图\n",
    "- 将具有 $n(n-1)$ 条边的有向图称为有向完全图\n",
    "\n",
    "### 2.3 顶点的度 (degree)\n",
    "\n",
    "- 对于无向图, 顶点的度表示以该顶点作为一个端点的边的数目\n",
    "    - 例: 图(a)无向图中顶点 $V_3$ 的度 $D(V_3)=3$\n",
    "\n",
    "- 对于有向图, 顶点的度分为 **入度** 和 **出度**\n",
    "    - 入度表示以该顶点为终点的入边数目\n",
    "    - 出度是以该顶点为起点的出边数目\n",
    "    - 该顶点的度等于其入度和出度之和\n",
    "    - 例: 顶点 $V_1$ 的入度 $ID(V_1)=1$, 出度 $OD(V_1)=2$, 所以$D(V_1)=ID(V_1)+OD(V_1)=3$\n",
    "\n",
    "注: 顶点的度与边数满足:\n",
    "$$\n",
    "e = \\frac12\\sum_{i=1}^n D(V_i)\n",
    "$$\n",
    "\n",
    "### 2.4 简单图\n",
    "\n",
    "- 在图中, 若不存在顶点到其自身的边, 且同一条边不重复出现, 这样的图就是简单图\n",
    "\n",
    "- 本课程中讨论的都是简单图\n",
    "\n",
    "### 2.5 路径、路径长度和回路\n",
    "\n",
    "- **路径**, 如在图 $G$ 中, 存在一个顶点序列 $V_p,V_{i1},V_{i2},V_{i3},\\ldots, V_{im},V_q$, 使得 $(V_p,V_{i1})，(V_{i1},V_{i2}),\\ldots,(V_{im},V_q)$ 均属于边集 $E(G)$，则称顶点 $V_p$ 到 $V_q$ 存在一条路径\n",
    "\n",
    "- **路径长度**, 是指一条路径上经过的边的数量\n",
    "\n",
    "- **回路**, 指一条路径的起点和终点为同一个顶点\n",
    "\n",
    "### 2.6 连通图\n",
    "\n",
    "连通图是指图 $G$ 中任意两个顶点 $V_i$ 和 $V_j$ 都连通, 则称为连通图. 比如图(b)就是连通图。下面是一个非连通图的例子:\n",
    "\n",
    "![](https://images0.cnblogs.com/blog/311549/201309/23224325-da52aadcae4b456389fb9268dd51d1b8.jpg)\n",
    "\n",
    "\n",
    "### 2.7 网\n",
    "\n",
    "带 ``权值\" 的连通图称为网\n",
    "\n",
    "![](https://images0.cnblogs.com/blog/311549/201309/23224329-5c5bb81883bf49ca8f4f030166823dce.jpg)"
   ]
  },
  {
   "cell_type": "markdown",
   "metadata": {},
   "source": [
    "## 3. 图的存储方式"
   ]
  },
  {
   "cell_type": "markdown",
   "metadata": {},
   "source": [
    "### 3.1 邻接矩阵 (Adjacency Matrix)\n",
    "- 使用两个列表来表示图\n",
    "    - 一个一维列表存储图中顶点的信息\n",
    "    - 一个二维列表 (称为邻接矩阵) 存储图中的边的信息\n",
    "\n",
    "![](./img/graph/adjMat.png)\n",
    "\n",
    "**邻接矩阵存储的优缺点:**\n",
    "- 优点: 构造简单\n",
    "- 缺点: 在实际应用中绝大多数的图其实都是 **稀疏图**, 其对应的邻接矩阵中绝大多数元素都为空值, **极大浪费了存储空间**"
   ]
  },
  {
   "cell_type": "markdown",
   "metadata": {},
   "source": [
    "### 3.2 邻接表 (Adjacency List)\n",
    "- 对于稀疏图的一个更有效的存储方式\n",
    "- 使用一个字典的 key 值存储顶点信息, 用 value 值存储与顶点相连的顶点信息的字典\n",
    "\n",
    "![](./img/graph/adjlist.png)"
   ]
  },
  {
   "cell_type": "markdown",
   "metadata": {},
   "source": [
    "## 4. 图的遍历\n",
    "\n",
    "**图的遍历 (Traversing Graph):** 从图中某一顶点出发访遍图中其余顶点, 且使每一个顶点仅被访问一次, 这一过程就叫做图的遍历.\n",
    "\n",
    "![](img/graph/digraph.png)\n",
    "\n",
    "### 4.1 图的广度优先遍历 (Breadth First Search)\n",
    "\n",
    "\n",
    "广度优先搜索遍历 (BFS) 类似于树的按层次遍历. 基本思路是:\n",
    "\n",
    "1. 首先访问出发点 $V_i$\n",
    "\n",
    "2. 接着依次访问 $V_i$ 的所有未被访问过的邻接点 $V_{i1}, V_{i2}, V_{i3},\\ldots,V_{it}$ 并均标记为已访问过\n",
    "\n",
    "3. 然后再按照 $V_{i1}, V_{i2},\\ldots, V_{it}$ 的次序, 访问每一个顶点的所有未曾访问过的顶点并均标记为已访问过, 依此类推, 直到图中所有和初始出发点 $V_i$ 有路径相通的顶点都被访问过为止\n",
    "\n",
    "![](img/graph/bfs.png)\n",
    "\n",
    "<center>广度优先遍历: $V0, V5, V1, V2, V4, V3$</center>\n",
    "\n",
    "#### BFS 的时间复杂度\n",
    "\n",
    "- 若采用邻接矩阵存储, BFS 的时间复杂度为 $O(n^2)$\n",
    "- 若采用邻接表, 则时间复杂度为 $O(n+e)$\n",
    "\n",
    "### 4.2 图的深度优先遍历 (Depth First Search)\n",
    "\n",
    "深度优先搜索 DFS 遍历类似于树的前序遍历. 其基本思路是:\n",
    "\n",
    "1. 假设初始状态是图中所有顶点都未曾访问过, 则可从图 $G$ 中任意一顶点 $v$ 为初始出发点, 并将其标记为已访问过\n",
    "\n",
    "2. 然后依次从 $v$ 出发搜索 $v$ 的每个邻接点 $w$, 若 $w$ 未曾访问过, 则以 $w$ 作为新的出发点出发, 继续进行深度优先遍历, 直到图中所有和 $v$ 有路径相通的顶点都被访问到\n",
    "\n",
    "3. 若此时图中仍有顶点未被访问, 则另选一个未曾访问的顶点作为起点, 重复上述步骤, 直到图中所有顶点都被访问到为止\n",
    "\n",
    "![](img/graph/dfs.png)\n",
    "\n",
    "<center>深度优先遍历结果: $V0, V1, V2, V3, V4, V5$</center>\n",
    "\n",
    "#### DFS 的时间复杂度\n",
    "\n",
    "- 若采用邻接矩阵存储, BFS 的时间复杂度为 $O(n^2)$\n",
    "- 若采用邻接表, 则时间复杂度为 $O(n+e)$"
   ]
  },
  {
   "cell_type": "markdown",
   "metadata": {},
   "source": [
    "### 练习: 现有图的邻接矩阵如下:\n",
    "![](img/graph/adjMatEX.png)\n",
    "- 画出其对应的图\n",
    "- 给出对应的邻接表表示\n",
    "- 从顶点 A 开始按字母序进行广度优先遍历\n",
    "- 从顶点 A 开始按字母序进行深度优先遍历"
   ]
  },
  {
   "cell_type": "markdown",
   "metadata": {},
   "source": [
    "## 5. 图的遍历应用\n",
    "\n",
    "### 5.1 倒水问题\n",
    "\n",
    "假设有一个池塘，里面有无穷多的水. 现有 2 个空水壶, 容积分别为 4 升和 3 升. 问题是如何只用这 2 个水壶从池塘里在第一个水壶中取得 2 升的水. "
   ]
  },
  {
   "cell_type": "markdown",
   "metadata": {},
   "source": [
    "### 倒水问题的广度优先遍历解法\n",
    "\n",
    "![](img/graph/jugs.png)"
   ]
  },
  {
   "cell_type": "markdown",
   "metadata": {},
   "source": [
    "### 图的抽象数据类型\n",
    "\n",
    "- `Graph()` 创建一个图\n",
    "- `addVertex(vertKey)` 添加一个顶点\n",
    "- `addEdge(fromVert, toVert, weight)` 添加一条边\n",
    "- `getVertex(vertKey)` 获取图中顶点\n",
    "- `getVertices()` 返回图中所有顶点"
   ]
  },
  {
   "cell_type": "code",
   "execution_count": 41,
   "metadata": {
    "collapsed": true
   },
   "outputs": [],
   "source": [
    "from pythonds import Queue, Graph, Vertex"
   ]
  },
  {
   "cell_type": "code",
   "execution_count": 26,
   "metadata": {
    "collapsed": true
   },
   "outputs": [],
   "source": [
    "def traverse(x):\n",
    "    while x.getPred():\n",
    "        print(x.id)\n",
    "        x = x.getPred()\n",
    "    print(x.id)"
   ]
  },
  {
   "cell_type": "code",
   "execution_count": 36,
   "metadata": {},
   "outputs": [],
   "source": [
    "#m: 第一个杯子的容量\n",
    "#n: 第二个杯子的容量\n",
    "#r: 要求倒出的容量\n",
    "\n",
    "#a: 第一个杯子中当前水量\n",
    "#b: 第二个杯子中当前水量\n",
    "def legalGallons(current, m, n):\n",
    "    a,b = current[0], current[1]\n",
    "    return [(0, b), (a, 0), (m, b), (a, n), (max(a+b-n,0), min(a+b, n)), (min(a+b, m), max(a+b-m, 0))]\n",
    "\n",
    "def jugsProblem(m, n, r):\n",
    "    g = Graph()\n",
    "    q = Queue()\n",
    "    current = (0,0)\n",
    "    g.addVertex(current)\n",
    "    q.enqueue(current)\n",
    "    while not q.isEmpty() and current[0] != r:\n",
    "        current = q.dequeue()\n",
    "        for nbr in legalGallons(current, m, n):\n",
    "            if nbr not in g.getVertices():\n",
    "                g.addEdge(current, nbr)\n",
    "                g.getVertex(nbr).setPred(g.getVertex(current))\n",
    "                g.getVertex(nbr).setDistance(g.getVertex(current).getDistance()+1)\n",
    "                q.enqueue(nbr)\n",
    "    if current[0] == r:\n",
    "        traverse(g.getVertex(current))\n",
    "    else:\n",
    "        print(u'没有解!')"
   ]
  },
  {
   "cell_type": "code",
   "execution_count": 40,
   "metadata": {},
   "outputs": [
    {
     "name": "stdout",
     "output_type": "stream",
     "text": [
      "(2, 3)\n",
      "(4, 1)\n",
      "(0, 1)\n",
      "(1, 0)\n",
      "(1, 3)\n",
      "(4, 0)\n",
      "(0, 0)\n"
     ]
    }
   ],
   "source": [
    "jugsProblem(4,3,2)"
   ]
  },
  {
   "cell_type": "markdown",
   "metadata": {},
   "source": [
    "### 练习\n",
    "\n",
    "1. 使用图的广度优先遍历思想解决如下 “过河问题”: 农夫需要把狼、羊、菜和自己运到 河对岸去,只有农夫能够划船,而且船比较小,除农夫之外每次只能运一种东西,还 有一个棘手问题,就是如果没有农夫看着,羊会偷吃菜,狼会吃羊。\n",
    "\n",
    "    - 请考虑一种方法, 让农夫能够安全地安排这些东西和他自己过河\n",
    "    - 使用图的广度优先遍历画出搜索 (过河) 的过程. (提示: 可以用状态 0, 1 代表 过河与否. 如初始状态是 (0, 0, 0, 0) 表示农夫、狼、羊、菜在河这边; 状态 (1, 0, 1, 0) 表 示农夫、羊在河对岸而狼和菜在河这边; (1, 1, 1, 1) 表示农夫、狼、羊、菜都在河对岸.)\n",
    "    \n",
    "2. 有三只无刻度的水桶A,B,C.它们的容量分别为10升,7升,3升. 现在A桶里装满 10 升水. 借助这三只桶, 你能把 A 桶中的水平均分成 2 份么? 你认为至少要倒几次? 请写出操作过程."
   ]
  }
 ],
 "metadata": {
  "anaconda-cloud": {},
  "kernelspec": {
   "display_name": "Python 3",
   "language": "python",
   "name": "python3"
  },
  "language_info": {
   "codemirror_mode": {
    "name": "ipython",
    "version": 3
   },
   "file_extension": ".py",
   "mimetype": "text/x-python",
   "name": "python",
   "nbconvert_exporter": "python",
   "pygments_lexer": "ipython3",
   "version": "3.6.3"
  }
 },
 "nbformat": 4,
 "nbformat_minor": 1
}
