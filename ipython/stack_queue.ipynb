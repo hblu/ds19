{
 "cells": [
  {
   "cell_type": "markdown",
   "metadata": {},
   "source": [
    "# 栈与队列\n",
    "\n",
    "\n",
    "## 1. 后缀表达式\n",
    "\n",
    "1. 写出 `15*3^(10-2)` 的后缀表达式.\n",
    "2. 修改 `infixToPostfix()` 使其可以将上式转换为后缀表达式.\n",
    "3. 修改 `postfixEval()` 与 `doMath()` 使其可以计算上述后缀表达式."
   ]
  },
  {
   "cell_type": "code",
   "execution_count": null,
   "metadata": {
    "collapsed": true
   },
   "outputs": [],
   "source": [
    "class Stack:\n",
    "    def __init__(self):\n",
    "        self.items = []\n",
    "    def isEmpty(self):\n",
    "        return self.items == []\n",
    "    def push(self, item):\n",
    "        self.items.insert(0,item)\n",
    "    def pop(self):\n",
    "        return self.items.pop(0)\n",
    "    def peek(self):\n",
    "        return self.items[0]\n",
    "    def size(self):\n",
    "        return len(self.items)\n",
    "            \n",
    "def infixToPostfix(infixexpr):\n",
    "    prec = {\"*\": 3, \"/\": 3, \"+\": 2, \"-\": 2, \"(\": 1}\n",
    "    operators = \"+-*/()\"\n",
    "    opStack = Stack()\n",
    "    postfixList = []\n",
    "    for token in infixexpr:\n",
    "        if token not in operators:\n",
    "            postfixList.append(token)\n",
    "        elif token == '(':\n",
    "            opStack.push(token)\n",
    "        elif token == ')':\n",
    "            topToken = opStack.pop()\n",
    "            while topToken != '(':\n",
    "                postfixList.append(topToken)\n",
    "                topToken = opStack.pop()\n",
    "        else:\n",
    "            while (not opStack.isEmpty()) and \\\n",
    "               (prec[opStack.peek()] >= prec[token]):\n",
    "                    postfixList.append(opStack.pop())\n",
    "            opStack.push(token)\n",
    "    while not opStack.isEmpty():\n",
    "        postfixList.append(opStack.pop())\n",
    "    return \" \".join(postfixList)\n",
    "\n",
    "def postfixEval(postfixExpr):\n",
    "    operandStack = Stack()\n",
    "    tokenList = postfixExpr.split()\n",
    "    for token in tokenList:\n",
    "        if token in \"0123456789\":\n",
    "            operandStack.push(int(token))\n",
    "        else:\n",
    "            operand2 = operandStack.pop()\n",
    "            operand1 = operandStack.pop()\n",
    "            result = doMath(token,operand1,operand2)\n",
    "            operandStack.push(result)\n",
    "    return operandStack.pop()\n",
    "\n",
    "def doMath(op, op1, op2):\n",
    "    if op == \"*\":\n",
    "        return op1 * op2\n",
    "    elif op == \"/\":\n",
    "        return op1 / op2\n",
    "    elif op == \"+\":\n",
    "        return op1 + op2\n",
    "    else:\n",
    "        return op1 - op2"
   ]
  },
  {
   "cell_type": "markdown",
   "metadata": {},
   "source": [
    "## 2. 二进制数转换\n",
    "\n",
    "二进制数表示在计算机科学中起着重要作用, 因为在计算机中所有数据都是用二进制串表示: 由 0 和 1 组成的字符串. 下面我们看一下如何将常用的十进制数转换为二进制数, 如十进制数 $233_{10}$ 对应的二进制表示为 $11101001_2$, 即\n",
    "$$\n",
    "2\\times 10^2 + 3\\times 10 ^1 + 3\\times 10^0\n",
    "$$\n",
    "和\n",
    "$$\n",
    "1\\times2^7+1\\times2^6+1\\times2^5+0\\times2^4+1\\times2^3+0\\times2^2+0\\times2^1+1\\times2^0\n",
    "$$\n",
    "![](http://hblu.coding.me/sitds16/_images/dectobin.png)\n",
    "\n",
    "- 编写函数 `dec2binary()` 实现从十进制数转换为二进制数"
   ]
  },
  {
   "cell_type": "code",
   "execution_count": null,
   "metadata": {
    "collapsed": true
   },
   "outputs": [],
   "source": [
    "def dec2binary(n):\n",
    "    \n",
    "##补全代码\n",
    "\n",
    "    \n",
    "print(dec2binary(10))"
   ]
  },
  {
   "cell_type": "markdown",
   "metadata": {},
   "source": [
    "## 3. 报数问题\n",
    "\n",
    "设有 n 个人站成一排, 从左到右的编号分别为 1~n, 现在从左到右报数 “1,2,1,2,...”, 数到 “1” 的人出列, 数到 “2” 的人立即站到退伍的最右端. 报数过程反复进行, 直到 n 个人都出列为止. 要求给出他们的出列顺序.\n",
    "\n",
    "例如, 当 n=8 时, 初始序列为 1 2 3 4 5 6 7 8. 则出列顺序为 1 3 5 7 2 6 4 8"
   ]
  },
  {
   "cell_type": "code",
   "execution_count": 46,
   "metadata": {
    "collapsed": true
   },
   "outputs": [],
   "source": [
    "class Queue:\n",
    "    def __init__(self):\n",
    "        self.items = []\n",
    "\n",
    "    def isEmpty(self):\n",
    "        return self.items == []\n",
    "\n",
    "    def enqueue(self, item):\n",
    "        self.items. insert(0, item)\n",
    "\n",
    "    def dequeue(self):\n",
    "        return self.items.pop()\n",
    "\n",
    "    def peek(self):\n",
    "        return self.items[-1]\n",
    "\n",
    "    def size(self):\n",
    "        return len(self.items)\n",
    "    \n",
    "    \n",
    "def number(n):\n",
    "    ## 补全代码\n",
    "    q = Queue()\n",
    "    now = 1\n",
    "    for i in range(1,n+1):\n",
    "        q.enqueue(i)\n",
    "        \n",
    "    while not q.isEmpty():\n",
    "        if now == 1:\n",
    "            print(q.dequeue(), end=\" \")\n",
    "            now = 2\n",
    "        else:\n",
    "            q.enqueue(q.dequeue())\n",
    "            now = 1\n",
    "    "
   ]
  },
  {
   "cell_type": "code",
   "execution_count": 47,
   "metadata": {},
   "outputs": [
    {
     "name": "stdout",
     "output_type": "stream",
     "text": [
      "1 3 5 7 2 6 4 8 "
     ]
    }
   ],
   "source": [
    "number(8)"
   ]
  },
  {
   "cell_type": "code",
   "execution_count": null,
   "metadata": {
    "collapsed": true
   },
   "outputs": [],
   "source": []
  }
 ],
 "metadata": {
  "kernelspec": {
   "display_name": "Python 3",
   "language": "python",
   "name": "python3"
  },
  "language_info": {
   "codemirror_mode": {
    "name": "ipython",
    "version": 3
   },
   "file_extension": ".py",
   "mimetype": "text/x-python",
   "name": "python",
   "nbconvert_exporter": "python",
   "pygments_lexer": "ipython3",
   "version": "3.6.3"
  }
 },
 "nbformat": 4,
 "nbformat_minor": 2
}
