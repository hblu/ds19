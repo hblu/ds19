{
 "cells": [
  {
   "cell_type": "markdown",
   "metadata": {},
   "source": [
    "# 单链表的实现"
   ]
  },
  {
   "cell_type": "code",
   "execution_count": 72,
   "metadata": {
    "collapsed": true
   },
   "outputs": [],
   "source": [
    "class Node:\n",
    "    def __init__(self,data):\n",
    "        self.data = data\n",
    "        self.next = None\n",
    "\n",
    "\n",
    "class LinkedList:\n",
    "\n",
    "    def __init__(self):\n",
    "        self.head = None\n",
    "\n",
    "    def isEmpty(self):\n",
    "        return self.head == None\n",
    "    \n",
    "    def append(self, data):\n",
    "        temp = Node(data)\n",
    "        temp.next = self.head\n",
    "        self.head = temp\n",
    "        \n",
    "    def __repr__(self):\n",
    "        i = self.head\n",
    "        while i != None:\n",
    "            print(i.data, end=\" \")\n",
    "            i = i.next\n",
    "            \n",
    "        return(\"\")\n",
    "    \n",
    "    def __getitem__(self, k):\n",
    "        \n",
    "        i = 0\n",
    "        current = self.head\n",
    "        \n",
    "        while current != None:\n",
    "            if i == k:\n",
    "                return current.data\n",
    "            else:\n",
    "                i += 1\n",
    "                current = current.next\n",
    "        \n",
    "        raise Exception(\"Out of Range!\")\n",
    "        \n",
    "      \n",
    "    def __setitem__(self, k, value):\n",
    "        \n",
    "        i = 0\n",
    "        current = self.head\n",
    "        \n",
    "        while current != None:\n",
    "            if i == k:\n",
    "                current.data = value\n",
    "                return(current.data)\n",
    "            else:\n",
    "                i += 1\n",
    "                current = current.next\n",
    "        \n",
    "        raise Exception(\"Out of Range!\")\n",
    "        \n",
    "    def pop(self, k = 0):\n",
    "        if k == 0:\n",
    "            if self.head != None:\n",
    "                temp = self.head\n",
    "                self.head = self.head.next\n",
    "                return temp.data\n",
    "            else:\n",
    "                raise Exception(\"List is empty!\")\n",
    "        else:\n",
    "            i = 0\n",
    "            current = self.head\n",
    "            prioir = None\n",
    "\n",
    "            while current != None:\n",
    "                if i == k:\n",
    "                    temp = current\n",
    "                    prior.next = current.next\n",
    "                    return temp.data\n",
    "                else:\n",
    "                    i += 1\n",
    "                    prior = current\n",
    "                    current = current.next\n",
    "\n",
    "            raise Exception(\"Out of Range!\")\n",
    "    \n",
    "    def insert(self, k, value):\n",
    "        if k == 0:\n",
    "            temp = Node(value)\n",
    "            temp.next = self.head\n",
    "            self.head = temp\n",
    "            return self.head.data\n",
    "        else:\n",
    "            i = 0\n",
    "            current = self.head\n",
    "\n",
    "            while current != None:\n",
    "                if i == k-1:\n",
    "                    temp = Node(value)\n",
    "                    temp.next = current.next\n",
    "                    current.next = temp\n",
    "                    return(current.data)\n",
    "                else:\n",
    "                    i += 1\n",
    "                    current = current.next\n",
    "\n",
    "            raise Exception(\"Out of Range!\")\n",
    "            \n",
    "    def __len__(self):\n",
    "        length = 0\n",
    "        current = self.head\n",
    "        while current != None:\n",
    "            length += 1\n",
    "            current = current.next\n",
    "        return length"
   ]
  },
  {
   "cell_type": "code",
   "execution_count": 73,
   "metadata": {},
   "outputs": [
    {
     "name": "stdout",
     "output_type": "stream",
     "text": [
      "a 3 2 1 \n"
     ]
    }
   ],
   "source": [
    "l = LinkedList()\n",
    "l.append(1)\n",
    "l.append(2)\n",
    "l.append(3)\n",
    "l.append('a')\n",
    "\n",
    "\n",
    "print(l)"
   ]
  },
  {
   "cell_type": "code",
   "execution_count": 74,
   "metadata": {},
   "outputs": [
    {
     "data": {
      "text/plain": [
       "'b'"
      ]
     },
     "execution_count": 74,
     "metadata": {},
     "output_type": "execute_result"
    }
   ],
   "source": [
    "l.insert(0, \"b\")"
   ]
  },
  {
   "cell_type": "code",
   "execution_count": 75,
   "metadata": {},
   "outputs": [
    {
     "name": "stdout",
     "output_type": "stream",
     "text": [
      "b a 3 2 1 \n"
     ]
    }
   ],
   "source": [
    "print(l)"
   ]
  },
  {
   "cell_type": "code",
   "execution_count": 76,
   "metadata": {},
   "outputs": [
    {
     "name": "stdout",
     "output_type": "stream",
     "text": [
      "b a 3 2 1 \n"
     ]
    }
   ],
   "source": [
    "print(l)"
   ]
  },
  {
   "cell_type": "code",
   "execution_count": 77,
   "metadata": {},
   "outputs": [
    {
     "data": {
      "text/plain": [
       "5"
      ]
     },
     "execution_count": 77,
     "metadata": {},
     "output_type": "execute_result"
    }
   ],
   "source": [
    "len(l)"
   ]
  },
  {
   "cell_type": "code",
   "execution_count": 78,
   "metadata": {},
   "outputs": [
    {
     "data": {
      "text/plain": [
       "'b'"
      ]
     },
     "execution_count": 78,
     "metadata": {},
     "output_type": "execute_result"
    }
   ],
   "source": [
    "l[0]"
   ]
  },
  {
   "cell_type": "code",
   "execution_count": 79,
   "metadata": {
    "collapsed": true
   },
   "outputs": [],
   "source": [
    "l[0] = \"list\""
   ]
  },
  {
   "cell_type": "code",
   "execution_count": 80,
   "metadata": {},
   "outputs": [
    {
     "name": "stdout",
     "output_type": "stream",
     "text": [
      "list a 3 2 1 \n"
     ]
    }
   ],
   "source": [
    "print(l)"
   ]
  }
 ],
 "metadata": {
  "kernelspec": {
   "display_name": "Python 3",
   "language": "python",
   "name": "python3"
  },
  "language_info": {
   "codemirror_mode": {
    "name": "ipython",
    "version": 3
   },
   "file_extension": ".py",
   "mimetype": "text/x-python",
   "name": "python",
   "nbconvert_exporter": "python",
   "pygments_lexer": "ipython3",
   "version": "3.6.4"
  }
 },
 "nbformat": 4,
 "nbformat_minor": 2
}
